{
 "cells": [
  {
   "attachments": {},
   "cell_type": "markdown",
   "metadata": {},
   "source": [
    "Get all the links from a website"
   ]
  },
  {
   "cell_type": "code",
   "execution_count": 54,
   "metadata": {},
   "outputs": [],
   "source": [
    "url = \"https://www.stanford.edu\"\n",
    "domain = \"www.stanford.edu\""
   ]
  },
  {
   "attachments": {},
   "cell_type": "markdown",
   "metadata": {},
   "source": [
    "### Get all links in a web page\n"
   ]
  },
  {
   "cell_type": "code",
   "execution_count": 56,
   "metadata": {},
   "outputs": [],
   "source": [
    "from bs4 import BeautifulSoup\n",
    "import requests\n",
    "\n",
    "def get_links(url: str, domain: str) -> list[str]:\n",
    "    try:\n",
    "        r = requests.get(url)\n",
    "        if not r.headers['Content-Type'].startswith(\"text/html\"):\n",
    "            return []\n",
    "        \n",
    "        html_doc = r.text\n",
    "        links = set()\n",
    "        soup = BeautifulSoup(html_doc, 'html.parser')\n",
    "        for tag in soup.find_all('a'):\n",
    "            link = tag.get('href')\n",
    "            if link is None:\n",
    "                continue\n",
    "            if link.startswith(\"#\") or link.startswith(\"mailto:\"):\n",
    "                continue\n",
    "            if link.startswith(url):\n",
    "                links.add(link)\n",
    "            elif link.startswith(\"/\"):\n",
    "                link = link[1:]\n",
    "                links.add(f\"{url}/{link}\")\n",
    "\n",
    "    except Exception as e:\n",
    "        print(e)\n",
    "        return []\n",
    "\n",
    "    return list(links)"
   ]
  },
  {
   "cell_type": "code",
   "execution_count": 57,
   "metadata": {},
   "outputs": [
    {
     "data": {
      "text/plain": [
       "23"
      ]
     },
     "execution_count": 57,
     "metadata": {},
     "output_type": "execute_result"
    }
   ],
   "source": [
    "links = get_links(url, domain)\n",
    "len(links)"
   ]
  },
  {
   "cell_type": "code",
   "execution_count": null,
   "metadata": {},
   "outputs": [],
   "source": [
    "links"
   ]
  },
  {
   "attachments": {},
   "cell_type": "markdown",
   "metadata": {},
   "source": [
    "### Crawl all the links in the same domain"
   ]
  },
  {
   "cell_type": "code",
   "execution_count": 59,
   "metadata": {},
   "outputs": [],
   "source": [
    "from collections import deque\n",
    "\n",
    "def get_all_links_same_domain(url: str, domain: str) -> list[str]:\n",
    "    seen = set([url])\n",
    "    links = deque([url])\n",
    "    while links:\n",
    "        current_url = links.popleft()\n",
    "        for link in get_links(current_url, domain):\n",
    "            if link not in seen:\n",
    "                seen.add(link)\n",
    "                links.append(link)\n",
    "\n",
    "    return list(seen)"
   ]
  },
  {
   "cell_type": "code",
   "execution_count": 60,
   "metadata": {},
   "outputs": [
    {
     "data": {
      "text/plain": [
       "33"
      ]
     },
     "execution_count": 60,
     "metadata": {},
     "output_type": "execute_result"
    }
   ],
   "source": [
    "all_links = get_all_links_same_domain(url, domain)\n",
    "len(all_links)"
   ]
  },
  {
   "attachments": {},
   "cell_type": "markdown",
   "metadata": {},
   "source": [
    "### Crawl all texts from a domain"
   ]
  },
  {
   "cell_type": "code",
   "execution_count": 63,
   "metadata": {},
   "outputs": [],
   "source": [
    "\n",
    "\n",
    "import os\n",
    "\n",
    "def crawl(url):\n",
    "    for link in all_links:\n",
    "        if not os.path.exists(\"text\"):\n",
    "            os.makedirs(\"text\")\n",
    "\n",
    "        if not os.path.exists(f\"text/{domain}\"):\n",
    "            os.makedirs(f\"text/{domain}\")\n",
    "\n",
    "        try:\n",
    "            r = requests.get(link)\n",
    "            if not r.headers['Content-Type'].startswith(\"text/html\"):\n",
    "                continue\n",
    "\n",
    "            html_doc = r.text\n",
    "            soup = BeautifulSoup(html_doc, 'html.parser')\n",
    "            text = soup.get_text()\n",
    "            if not text:\n",
    "                continue\n",
    "\n",
    "            with open(f\"text/{domain}/{link[8:].replace('/', '_')}.txt\", \"w\") as f:\n",
    "                if (\"You need to enable Javascript to run this app.\" in text):\n",
    "                    print(\"Unable to parse page \" + url + \" due to Javascript being required.\")\n",
    "\n",
    "                f.write(text)\n",
    "        except Exception as e:\n",
    "            print(e)\n",
    "            continue\n"
   ]
  },
  {
   "cell_type": "code",
   "execution_count": 64,
   "metadata": {},
   "outputs": [],
   "source": [
    "crawl(url)"
   ]
  },
  {
   "attachments": {},
   "cell_type": "markdown",
   "metadata": {},
   "source": [
    "### Save the crawled texts into a dataframe"
   ]
  },
  {
   "cell_type": "code",
   "execution_count": 82,
   "metadata": {},
   "outputs": [],
   "source": [
    "import os\n",
    "import pandas as pd\n",
    "\n",
    "def remove_new_lines(text: str) -> str:\n",
    "    return text.replace('\\n', ' ').replace('\\r', ' ')\n",
    "\n",
    "texts = []\n",
    "for file in os.listdir(f\"text/{domain}/\"):\n",
    "    with open(f\"text/{domain}/{file}\", \"r\") as f:\n",
    "        title = file[16:-4].replace('_', ' ')\n",
    "        text = f.read()\n",
    "        texts.append((title, title + \". \" + remove_new_lines(text)))\n",
    "\n",
    "df = pd.DataFrame(texts, columns=['title', 'text'])\n",
    "df.to_csv(f\"processed/{domain}.csv\", index=False)\n"
   ]
  },
  {
   "attachments": {},
   "cell_type": "markdown",
   "metadata": {},
   "source": [
    "Add token count column to the dataframe"
   ]
  },
  {
   "cell_type": "code",
   "execution_count": 170,
   "metadata": {},
   "outputs": [
    {
     "data": {
      "text/plain": [
       "<Axes: >"
      ]
     },
     "execution_count": 170,
     "metadata": {},
     "output_type": "execute_result"
    },
    {
     "data": {
      "image/png": "[encoded data removed]",
      "text/plain": [
       "<Figure size 640x480 with 1 Axes>"
      ]
     },
     "metadata": {},
     "output_type": "display_data"
    }
   ],
   "source": [
    "import tiktoken\n",
    "\n",
    "tokenizer = tiktoken.get_encoding(\"cl100k_base\")\n",
    "\n",
    "df = pd.read_csv(f\"processed/{domain}.csv\")\n",
    "\n",
    "df['n_tokens'] = df['text'].apply(lambda x: len(tokenizer.encode(x)))\n",
    "\n",
    "df.head()\n",
    "\n",
    "df['n_tokens'].hist()"
   ]
  },
  {
   "attachments": {},
   "cell_type": "markdown",
   "metadata": {},
   "source": [
    "### Break down pages into shorter chunks."
   ]
  },
  {
   "cell_type": "code",
   "execution_count": 171,
   "metadata": {},
   "outputs": [],
   "source": [
    "def break_chunks(text: str, max_tokens: int) -> list[tuple[str, int]]:\n",
    "    count_so_far = 0\n",
    "    sentences = []\n",
    "    chunks = []\n",
    "\n",
    "    for sentence in text.split('. '):\n",
    "        curr_token = len(tokenizer.encode(sentence))\n",
    "        if count_so_far + curr_token > max_tokens:\n",
    "            chunks.append(('. '.join(sentences), count_so_far))\n",
    "            count_so_far = curr_token\n",
    "            sentences = [sentence]\n",
    "        else:\n",
    "            count_so_far += curr_token\n",
    "            sentences.append(sentence)\n",
    "    \n",
    "    return chunks"
   ]
  },
  {
   "cell_type": "code",
   "execution_count": 172,
   "metadata": {},
   "outputs": [],
   "source": [
    "def transform(df: pd.DataFrame, max_tokens: int) -> pd.DataFrame:\n",
    "    chunks = []\n",
    "    for _, row in df.iterrows():\n",
    "        chunks.extend(break_chunks(row['text'], max_tokens))\n",
    "\n",
    "    return pd.DataFrame(chunks, columns=['text', 'n_tokens'])"
   ]
  },
  {
   "cell_type": "code",
   "execution_count": 173,
   "metadata": {},
   "outputs": [
    {
     "data": {
      "text/plain": [
       "<Axes: >"
      ]
     },
     "execution_count": 173,
     "metadata": {},
     "output_type": "execute_result"
    },
    {
     "data": {
      "image/png": "[encoded data removed]",
      "text/plain": [
       "<Figure size 640x480 with 1 Axes>"
      ]
     },
     "metadata": {},
     "output_type": "display_data"
    }
   ],
   "source": [
    "df = transform(df, 500)\n",
    "df['n_tokens'].hist()"
   ]
  },
  {
   "attachments": {},
   "cell_type": "markdown",
   "metadata": {},
   "source": [
    "### Create embedding on chunks"
   ]
  },
  {
   "cell_type": "code",
   "execution_count": 176,
   "metadata": {},
   "outputs": [
    {
     "data": {
      "text/html": [
       "<div>\n",
       "<style scoped>\n",
       "    .dataframe tbody tr th:only-of-type {\n",
       "        vertical-align: middle;\n",
       "    }\n",
       "\n",
       "    .dataframe tbody tr th {\n",
       "        vertical-align: top;\n",
       "    }\n",
       "\n",
       "    .dataframe thead th {\n",
       "        text-align: right;\n",
       "    }\n",
       "</style>\n",
       "<table border=\"1\" class=\"dataframe\">\n",
       "  <thead>\n",
       "    <tr style=\"text-align: right;\">\n",
       "      <th></th>\n",
       "      <th>text</th>\n",
       "      <th>n_tokens</th>\n",
       "      <th>embeddings</th>\n",
       "    </tr>\n",
       "  </thead>\n",
       "  <tbody>\n",
       "    <tr>\n",
       "      <th>0</th>\n",
       "      <td>research .        Research – Stanford Univers...</td>\n",
       "      <td>489</td>\n",
       "      <td>[0.0013005564687773585, 0.0015043378807604313,...</td>\n",
       "    </tr>\n",
       "    <tr>\n",
       "      <th>1</th>\n",
       "      <td>.        Stanford University                  ...</td>\n",
       "      <td>361</td>\n",
       "      <td>[0.008646012283861637, -0.006314127705991268, ...</td>\n",
       "    </tr>\n",
       "    <tr>\n",
       "      <th>2</th>\n",
       "      <td>Everyone has a different flavor of intelligenc...</td>\n",
       "      <td>485</td>\n",
       "      <td>[0.026591764762997627, 0.0007826302316971123, ...</td>\n",
       "    </tr>\n",
       "    <tr>\n",
       "      <th>3</th>\n",
       "      <td>admission.        Admission – Stanford Univer...</td>\n",
       "      <td>487</td>\n",
       "      <td>[0.024407632648944855, -0.0093003548681736, -0...</td>\n",
       "    </tr>\n",
       "    <tr>\n",
       "      <th>4</th>\n",
       "      <td>list research</td>\n",
       "      <td>2</td>\n",
       "      <td>[-0.022977428510785103, 0.010884045623242855, ...</td>\n",
       "    </tr>\n",
       "  </tbody>\n",
       "</table>\n",
       "</div>"
      ],
      "text/plain": [
       "                                                text  n_tokens  \\\n",
       "0   research .        Research – Stanford Univers...       489   \n",
       "1  .        Stanford University                  ...       361   \n",
       "2  Everyone has a different flavor of intelligenc...       485   \n",
       "3   admission.        Admission – Stanford Univer...       487   \n",
       "4                                      list research         2   \n",
       "\n",
       "                                          embeddings  \n",
       "0  [0.0013005564687773585, 0.0015043378807604313,...  \n",
       "1  [0.008646012283861637, -0.006314127705991268, ...  \n",
       "2  [0.026591764762997627, 0.0007826302316971123, ...  \n",
       "3  [0.024407632648944855, -0.0093003548681736, -0...  \n",
       "4  [-0.022977428510785103, 0.010884045623242855, ...  "
      ]
     },
     "execution_count": 176,
     "metadata": {},
     "output_type": "execute_result"
    }
   ],
   "source": [
    "import openai\n",
    "\n",
    "df[\"embeddings\"] = df[\"text\"].apply(lambda x: openai.Embedding.create(input=x, model=\"text-embedding-ada-002\")['data'][0]['embedding'])\n",
    "df.head()"
   ]
  },
  {
   "cell_type": "code",
   "execution_count": 177,
   "metadata": {},
   "outputs": [],
   "source": [
    "df.to_csv(f\"processed/{domain}_embeddings.csv\", index=False)"
   ]
  },
  {
   "attachments": {},
   "cell_type": "markdown",
   "metadata": {},
   "source": [
    "### Convert string embedding to list object"
   ]
  },
  {
   "cell_type": "code",
   "execution_count": 179,
   "metadata": {},
   "outputs": [
    {
     "data": {
      "text/html": [
       "<div>\n",
       "<style scoped>\n",
       "    .dataframe tbody tr th:only-of-type {\n",
       "        vertical-align: middle;\n",
       "    }\n",
       "\n",
       "    .dataframe tbody tr th {\n",
       "        vertical-align: top;\n",
       "    }\n",
       "\n",
       "    .dataframe thead th {\n",
       "        text-align: right;\n",
       "    }\n",
       "</style>\n",
       "<table border=\"1\" class=\"dataframe\">\n",
       "  <thead>\n",
       "    <tr style=\"text-align: right;\">\n",
       "      <th></th>\n",
       "      <th>text</th>\n",
       "      <th>n_tokens</th>\n",
       "      <th>embeddings</th>\n",
       "    </tr>\n",
       "  </thead>\n",
       "  <tbody>\n",
       "    <tr>\n",
       "      <th>0</th>\n",
       "      <td>research .        Research – Stanford Univers...</td>\n",
       "      <td>489</td>\n",
       "      <td>[0.0013005564687773585, 0.0015043378807604313,...</td>\n",
       "    </tr>\n",
       "    <tr>\n",
       "      <th>1</th>\n",
       "      <td>.        Stanford University                  ...</td>\n",
       "      <td>361</td>\n",
       "      <td>[0.008646012283861637, -0.006314127705991268, ...</td>\n",
       "    </tr>\n",
       "    <tr>\n",
       "      <th>2</th>\n",
       "      <td>Everyone has a different flavor of intelligenc...</td>\n",
       "      <td>485</td>\n",
       "      <td>[0.026591764762997627, 0.0007826302316971123, ...</td>\n",
       "    </tr>\n",
       "    <tr>\n",
       "      <th>3</th>\n",
       "      <td>admission.        Admission – Stanford Univer...</td>\n",
       "      <td>487</td>\n",
       "      <td>[0.024407632648944855, -0.0093003548681736, -0...</td>\n",
       "    </tr>\n",
       "    <tr>\n",
       "      <th>4</th>\n",
       "      <td>list research</td>\n",
       "      <td>2</td>\n",
       "      <td>[-0.022977428510785103, 0.010884045623242855, ...</td>\n",
       "    </tr>\n",
       "  </tbody>\n",
       "</table>\n",
       "</div>"
      ],
      "text/plain": [
       "                                                text  n_tokens  \\\n",
       "0   research .        Research – Stanford Univers...       489   \n",
       "1  .        Stanford University                  ...       361   \n",
       "2  Everyone has a different flavor of intelligenc...       485   \n",
       "3   admission.        Admission – Stanford Univer...       487   \n",
       "4                                      list research         2   \n",
       "\n",
       "                                          embeddings  \n",
       "0  [0.0013005564687773585, 0.0015043378807604313,...  \n",
       "1  [0.008646012283861637, -0.006314127705991268, ...  \n",
       "2  [0.026591764762997627, 0.0007826302316971123, ...  \n",
       "3  [0.024407632648944855, -0.0093003548681736, -0...  \n",
       "4  [-0.022977428510785103, 0.010884045623242855, ...  "
      ]
     },
     "execution_count": 179,
     "metadata": {},
     "output_type": "execute_result"
    }
   ],
   "source": [
    "import numpy as np\n",
    "\n",
    "df= pd.read_csv(f\"processed/{domain}_embeddings.csv\", index_col=False)\n",
    "df['embeddings'] = df['embeddings'].apply(eval).apply(np.array)\n",
    "df.head()"
   ]
  },
  {
   "attachments": {},
   "cell_type": "markdown",
   "metadata": {},
   "source": [
    "Calculate Distance use openai distance_from_embeddings"
   ]
  },
  {
   "attachments": {},
   "cell_type": "markdown",
   "metadata": {},
   "source": [
    "### Create context for query"
   ]
  },
  {
   "cell_type": "code",
   "execution_count": 197,
   "metadata": {},
   "outputs": [],
   "source": [
    "from openai.embeddings_utils import distances_from_embeddings\n",
    "\n",
    "def create_context(query: str, df: pd.DataFrame, max_tokens: int) -> str:\n",
    "    context = []\n",
    "    token_so_far = 0\n",
    "    query_embedding = openai.Embedding.create(\n",
    "    input=query, model=\"text-embedding-ada-002\")['data'][0]['embedding']\n",
    "\n",
    "    df['distances'] = distances_from_embeddings(\n",
    "    query_embedding, df.embeddings, distance_metric=\"cosine\")\n",
    "\n",
    "    for _, row in df.sort_values('distances', ascending=True).iterrows():\n",
    "        token_so_far += row['n_tokens']\n",
    "        context.append(row['text'])\n",
    "        if token_so_far > max_tokens:\n",
    "            break\n",
    "\n",
    "    return (\"\\n\\n###\\n\\n\").join(context)"
   ]
  },
  {
   "cell_type": "code",
   "execution_count": 198,
   "metadata": {},
   "outputs": [],
   "source": [
    "context = create_context(\"what is the history of stanford?\", df, 3000)"
   ]
  },
  {
   "cell_type": "code",
   "execution_count": null,
   "metadata": {},
   "outputs": [],
   "source": [
    "context"
   ]
  },
  {
   "attachments": {},
   "cell_type": "markdown",
   "metadata": {},
   "source": [
    "### Chat with context"
   ]
  },
  {
   "cell_type": "code",
   "execution_count": 202,
   "metadata": {},
   "outputs": [],
   "source": [
    "import openai\n",
    "\n",
    "def chat(query: str, df: pd.DataFrame, max_tokens: int, debug: bool = False) -> str:\n",
    "    context = create_context(query, df, max_tokens)\n",
    "    if debug:\n",
    "        print(context)\n",
    "    try: \n",
    "        response = openai.ChatCompletion.create(\n",
    "            model=\"gpt-4\",\n",
    "            temperature=0,\n",
    "            messages=[\n",
    "                {\"role\": \"user\", \"content\": f\"Anser the question based on the context below, and if the question can't be answered based on the context say \\\"I don't know\\\" \\n\\mContext:{context}\\n\\n---\\n\\nQuestion: {query}\\n\\nAnswer:\"}]\n",
    "                )\n",
    "    except Exception as e:\n",
    "        print(e)\n",
    "        return\n",
    "    \n",
    "    return response['choices'][0]['message']['content']"
   ]
  },
  {
   "cell_type": "code",
   "execution_count": 204,
   "metadata": {},
   "outputs": [
    {
     "data": {
      "text/plain": [
       "'The culture of Stanford is characterized by its intellectual vitality and irreverence. It is a place where everyone has a different flavor of intelligence. The university is founded on a bedrock of societal purpose and is committed to educating students for lives of leadership and purposeful contribution, advancing fundamental knowledge and cultivating creativity, and accelerating solutions and amplifying their impact. It also has a culture of interdisciplinary collaboration that drives discovery and innovation vital to the world. The university is also deliberate in its recruitment of a diverse student body and seeks to provide all students with the opportunity to learn from each other’s experiences and to think critically about their own views and preconceptions.'"
      ]
     },
     "execution_count": 204,
     "metadata": {},
     "output_type": "execute_result"
    }
   ],
   "source": [
    "response = chat(\"What is the culture of stanford\", df, 3000)\n",
    "response"
   ]
  },
  {
   "attachments": {},
   "cell_type": "markdown",
   "metadata": {},
   "source": []
  }
 ],
 "metadata": {
  "kernelspec": {
   "display_name": "venv",
   "language": "python",
   "name": "python3"
  },
  "language_info": {
   "codemirror_mode": {
    "name": "ipython",
    "version": 3
   },
   "file_extension": ".py",
   "mimetype": "text/x-python",
   "name": "python",
   "nbconvert_exporter": "python",
   "pygments_lexer": "ipython3",
   "version": "3.11.2"
  },
  "orig_nbformat": 4
 },
 "nbformat": 4,
 "nbformat_minor": 2
}
