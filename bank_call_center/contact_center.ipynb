{
 "cells": [
  {
   "cell_type": "markdown",
   "metadata": {},
   "source": [
    "# A Bank Call Center chatbot\n",
    "Design a chatbot can guide and process the user's money transfer requests, based on different input from the user:\n",
    "\n",
    "- I would like to transfer money.\n",
    "\n",
    "- Can you transfer $500 from my savings to my checking?\n",
    "\n",
    "- Actually could you change the amount to $250.\n",
    "\n",
    "- Move it from my checking to my savings.\n",
    "\n",
    "- Ok. let's forget about sending the money.\n",
    "\n",
    "Input, user's message. Output: Guide the user until the transfer is made.\n",
    "\n",
    "\n",
    "Design the system based on performance, ease of implemenation, maintainability and cost. "
   ]
  },
  {
   "cell_type": "markdown",
   "metadata": {},
   "source": [
    "The required_information to initiate the transfer: \n",
    "- from_account: 12345\n",
    "- to_account: 56789\n",
    "- amount: $250\n",
    "- user_confirmation: yes"
   ]
  },
  {
   "cell_type": "markdown",
   "metadata": {},
   "source": [
    "Process Design\n",
    "\n",
    "<img src=\"flow.png\" width=600px alt=\"Alternative text\" />"
   ]
  },
  {
   "cell_type": "code",
   "execution_count": 1,
   "metadata": {},
   "outputs": [],
   "source": [
    "import openai\n",
    "from getpass import getpass\n",
    "\n",
    "OPENAI_API_KEY = getpass(\"Enter your OpenAI API key: \")\n",
    "MODEL = \"gpt-4\"\n",
    "openai.api_key = OPENAI_API_KEY"
   ]
  },
  {
   "cell_type": "code",
   "execution_count": 2,
   "metadata": {},
   "outputs": [],
   "source": [
    "import ast\n",
    "\n",
    "def chat(messages: list, prompt: str) -> str:\n",
    "    messages.append({\"role\": \"user\", \"content\": prompt})\n",
    "    responses = openai.ChatCompletion.create(\n",
    "        model=\"gpt-4\",\n",
    "        messages=messages,\n",
    "    )\n",
    "    return responses.choices[0][\"message\"][\"content\"]\n",
    "\n",
    "\n",
    "def extractor(user_message: str) -> dict:\n",
    "    messages = []\n",
    "    system_message = \"\"\"\n",
    "    Role: Your role is to extract source account number, destination account number and transfer amount from the customer's message.\n",
    "    \"\"\"\n",
    "    messages.append({\"role\": \"system\", \"content\": system_message})\n",
    "\n",
    "    prompt = f\"\"\"\n",
    "    You are an assitant to extract information from user's message. Extract the source account number, destination account number and transfer amount from the customer's message, output as a dictionary. \n",
    "    \n",
    "    Example:\n",
    "    User: \"I want to transfer from account 123456.\"\n",
    "    Assistant: {{\"from_account\": \"123456\", \"to_account\": \"\", \"amount\": \"\"}}\n",
    "    User: \"I want to transfer to account 654321.\"\n",
    "    Assistant: {{\"from_account\": \"\", \"to_account\": \"654321\", \"amount\": \"\"}}\n",
    "    User: \"I want to transfer 100 dollars.\"\n",
    "    Assistant: {{\"from_account\": \"\", \"to_account\": \"\", \"amount\": \"100\"}}\n",
    "    User: {user_message}\n",
    "    Assistant:\n",
    "    \"\"\"\n",
    "    response = chat(messages, prompt)\n",
    "    return ast.literal_eval(response)\n",
    "\n",
    "def follow_up_asker(received_information: dict) -> str:\n",
    "    messages = []\n",
    "    system_message = \"\"\"\n",
    "     Role: You are bank call center assitant. Your goal is to collect the \"from_account\": \"\", \"to_account\": \"\", \"amount\": \"\" from the user.\n",
    "    \"\"\"\n",
    "    messages.append({\"role\": \"system\", \"content\": system_message})\n",
    "\n",
    "    prompt = f\"\"\"\n",
    "     Role: You are bank call center assitant. Your goal is to collect the \"from_account\": \"\", \"to_account\": \"\", \"amount\": \"\" from the user.\n",
    "\n",
    "    Here are some example: \n",
    "    User: \"from_account\": \"\", \"to_account\": \"\", \"amount\": \"\"\n",
    "    Assistant: \"Please tell me the source account, destination account and the amount you wish to transfer.\"\n",
    "    User: \"from_account\": \"1234\", \"to_account\": \"\", \"amount\": \"\"\n",
    "    Assistant: \"What is the destination account number and the amount you wish to transfer?\"\n",
    "    User: \"from_account\": \"1234\", \"to_account\": \"6543\", \"amount\": \"\"\n",
    "    Assistant: \"What is the amount that you wish to transfer?\"\n",
    "    User: \"from_account\": \"1234\", \"to_account\": \"6543\", \"amount\": \"100\"\n",
    "    Assistant: \"Ok. I will help you with that.\"\n",
    "\n",
    "    Let's start with the following conversation:\n",
    "    User: \"from_account\": {received_information[\"from_account\"]}, \"to_account\": {received_information[\"to_account\"]}, \"amount\": {received_information[\"amount\"]}.\n",
    "    Assistant:\n",
    "    \"\"\"\n",
    "    return chat(messages, prompt)\n",
    "\n",
    "def confirmation_checker(user_message: str) -> str:\n",
    "    messages = []\n",
    "    system_message = \"\"\"\n",
    "     Role: You are bank call center assitant. Your goal is to confirm the transfer with the user.\n",
    "    \"\"\"\n",
    "    messages.append({\"role\": \"system\", \"content\": system_message})\n",
    "\n",
    "    prompt = f\"\"\"\n",
    "     Role: You are bank call center assitant. Your goal is to confirm the transfer with the user. If the user replies positively, returns 1, otherwises returns 0.\n",
    "\n",
    "    Here are some example:\n",
    "    User: OK.\n",
    "    Assistant: 1\n",
    "    User: yes, please.\n",
    "    Assistant: 1\n",
    "    User: Wait a moment.\n",
    "    Assistant: 0\n",
    "    User: I don't want to transfer.\n",
    "    Assistant: 0\n",
    "    User: {user_message}\n",
    "    Assistant:\n",
    "    \"\"\"\n",
    "    return chat(messages, prompt)\n",
    "\n"
   ]
  },
  {
   "cell_type": "markdown",
   "metadata": {},
   "source": [
    "### Chatbot Implementation"
   ]
  },
  {
   "cell_type": "code",
   "execution_count": 3,
   "metadata": {},
   "outputs": [],
   "source": [
    "def collect_and_transfer() -> None:\n",
    "    received = {'from_account': '', 'to_account': '', 'amount': ''}\n",
    "    while not all(value for value in received.values()):\n",
    "        user_message = input(\"User: \")\n",
    "        new_info_dict = extractor(user_message)\n",
    "        for key, value in new_info_dict.items():\n",
    "            if value:\n",
    "                received[key] = value\n",
    "        print(received)\n",
    "        if not all(value for value in received.values()):\n",
    "            assitant_response = follow_up_asker(received)\n",
    "            print(\"Assistant: \", assitant_response)\n",
    "            print('\\n\\n')\n",
    "        \n",
    "    print(\"Assistant: \", f\"\"\"Okay, it looks like you'd like to transfer ${received[\"amount\"]} from account number {received[\"from_account\"]} to account number {received[\"to_account\"]}. Is that correct?\")\n",
    "    \"\"\")\n",
    "\n",
    "    user_message = input(\"User: \")\n",
    "    print(user_message)\n",
    "    response = confirmation_checker(user_message)\n",
    "    print(response)\n",
    "    if response == 1:\n",
    "        print(\"Assistant: \", \"Okay, I will help you with that.\")\n",
    "        # Execute the transfer    "
   ]
  },
  {
   "cell_type": "code",
   "execution_count": 4,
   "metadata": {},
   "outputs": [
    {
     "name": "stdout",
     "output_type": "stream",
     "text": [
      "{'from_account': '', 'to_account': '', 'amount': '100'}\n",
      "Assistant:  \"Could you please provide the from_account and to_account for the transfer?\"\n",
      "\n",
      "\n",
      "\n",
      "{'from_account': '1234', 'to_account': '', 'amount': '100'}\n",
      "Assistant:  \"Could you please confirm the destination account number for the transfer?\"\n",
      "\n",
      "\n",
      "\n",
      "{'from_account': '1234', 'to_account': '4321', 'amount': '100'}\n",
      "Assistant:  Okay, it looks like you'd like to transfer $100 from account number 1234 to account number 4321. Is that correct?\")\n",
      "    \n",
      "yes\n",
      "1\n"
     ]
    }
   ],
   "source": [
    "collect_and_transfer()"
   ]
  },
  {
   "cell_type": "markdown",
   "metadata": {},
   "source": []
  }
 ],
 "metadata": {
  "kernelspec": {
   "display_name": "venv",
   "language": "python",
   "name": "python3"
  },
  "language_info": {
   "codemirror_mode": {
    "name": "ipython",
    "version": 3
   },
   "file_extension": ".py",
   "mimetype": "text/x-python",
   "name": "python",
   "nbconvert_exporter": "python",
   "pygments_lexer": "ipython3",
   "version": "3.10.9"
  },
  "orig_nbformat": 4
 },
 "nbformat": 4,
 "nbformat_minor": 2
}
