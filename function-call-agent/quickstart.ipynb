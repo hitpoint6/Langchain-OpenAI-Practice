{
 "cells": [
  {
   "cell_type": "markdown",
   "metadata": {},
   "source": [
    "# AI agent built on openai's function call API\n",
    "It has the following features:\n",
    "- Intelligently choose a function to improve answer for an given question.\n",
    "- Generate a description of a function given its source code."
   ]
  },
  {
   "cell_type": "code",
   "execution_count": 4,
   "metadata": {},
   "outputs": [],
   "source": [
    "import openai\n",
    "from getpass import getpass\n",
    "from FuncCallAgent import Agent\n",
    "\n",
    "openai.api_key =  getpass(\"Enter your openai api key: \")"
   ]
  },
  {
   "cell_type": "markdown",
   "metadata": {},
   "source": [
    "### Basic Usage"
   ]
  },
  {
   "cell_type": "code",
   "execution_count": 2,
   "metadata": {},
   "outputs": [],
   "source": [
    "def multiply(a: int, b: int) -> dict:\n",
    "    res = a * b\n",
    "    return {\"result\": res}"
   ]
  },
  {
   "cell_type": "code",
   "execution_count": 4,
   "metadata": {},
   "outputs": [
    {
     "name": "stdout",
     "output_type": "stream",
     "text": [
      "answer:  The result of 345 * 789 is 272205.\n"
     ]
    }
   ],
   "source": [
    "agent = Agent.Agent([multiply], \"gpt-4\")\n",
    "response = agent.run(\"What is the result of 345 * 789?\")\n",
    "print(\"answer: \", response)"
   ]
  },
  {
   "cell_type": "markdown",
   "metadata": {},
   "source": [
    "### Python type can be converted to open AI's type\n",
    "- float -> number\n",
    "- int -> integer\n",
    "- str -> string"
   ]
  },
  {
   "cell_type": "code",
   "execution_count": 5,
   "metadata": {},
   "outputs": [],
   "source": [
    "# create a simple function for testing with\n",
    "def circumference_calculator(radius: float, something: float = 4.4) -> float:\n",
    "    \"\"\"Calculates the circumference of a circle given the radius\n",
    "\n",
    "    :param radius: The radius of the circle\n",
    "    :return: The circumference of the circle\n",
    "    \"\"\"\n",
    "    return 2 * 3.14 * radius"
   ]
  },
  {
   "cell_type": "code",
   "execution_count": 5,
   "metadata": {},
   "outputs": [
    {
     "name": "stdout",
     "output_type": "stream",
     "text": [
      "Prompt: [{'role': 'user', 'content': 'What is the circumference of a circle with a radius of 5.31?'}]\n",
      "def circumference_calculator(radius: float, something: float = 4.4) -> float:\n",
      "    \"\"\"Calculates the circumference of a circle given the radius\n",
      "\n",
      "    :param radius: The radius of the circle\n",
      "    :return: The circumference of the circle\n",
      "    \"\"\"\n",
      "    return 2 * 3.14 * radius\n",
      "\n",
      "{\n",
      "    \"name\": \"circumference_calculator\",\n",
      "    \"description\": \"Calculates the circumference of a circle given the radius\",\n",
      "    \"parameters\": {\n",
      "        \"type\": \"object\",\n",
      "        \"properties\": {\n",
      "            \"radius\": {\n",
      "                \"type\": \"number\",\n",
      "                \"description\": \"The radius of the circle\"\n",
      "            },\n",
      "            \"something\": {\n",
      "                \"type\": \"number\",\n",
      "                \"description\": \"An optional parameter with default value 4.4\"\n",
      "            }\n",
      "        },\n",
      "        \"required\": [\"radius\"]\n",
      "    },\n",
      "    \"return\": {\n",
      "        \"type\": \"number\",\n",
      "        \"description\": \"The circumference of the circle\"\n",
      "    }\n",
      "}\n",
      "Finish reason: function_call\n",
      "Prompt: [{'role': 'user', 'content': 'What is the circumference of a circle with a radius of 5.31?'}, {'role': 'function', 'name': 'circumference_calculator', 'content': '{\"result\": \"33.3468\"}'}]\n",
      "def circumference_calculator(radius: float, something: float = 4.4) -> float:\n",
      "    \"\"\"Calculates the circumference of a circle given the radius\n",
      "\n",
      "    :param radius: The radius of the circle\n",
      "    :return: The circumference of the circle\n",
      "    \"\"\"\n",
      "    return 2 * 3.14 * radius\n",
      "\n",
      "{\n",
      "    \"name\": \"circumference_calculator\",\n",
      "    \"description\": \"Calculates the circumference of a circle given the radius\",\n",
      "    \"parameters\": {\n",
      "        \"type\": \"object\",\n",
      "        \"properties\": {\n",
      "            \"radius\": {\n",
      "                \"type\": \"number\",\n",
      "                \"description\": \"The radius of the circle\"\n",
      "            },\n",
      "            \"something\": {\n",
      "                \"type\": \"number\",\n",
      "                \"description\": \"An optional parameter with default value 4.4\"\n",
      "            }\n",
      "        },\n",
      "        \"required\": [\"radius\"]\n",
      "    }\n",
      "}\n",
      "Finish reason: stop\n",
      "answer:  The circumference of a circle with a radius of 5.31 is approximately 33.35.\n"
     ]
    }
   ],
   "source": [
    "agent = Agent.Agent([circumference_calculator], \"gpt-4\")\n",
    "response = agent.run(\"What is the circumference of a circle with a radius of 5.31?\")\n",
    "print(\"answer: \", response)"
   ]
  },
  {
   "cell_type": "markdown",
   "metadata": {},
   "source": [
    "### The Agent can intelligently decide which function to use."
   ]
  },
  {
   "cell_type": "code",
   "execution_count": 6,
   "metadata": {},
   "outputs": [
    {
     "name": "stdout",
     "output_type": "stream",
     "text": [
      "function is called:  power_calculator\n",
      "answer:  2.5 raised to the power of 5.5 is approximately 154.41.\n"
     ]
    }
   ],
   "source": [
    "def power_calculator(value: float, power: float) -> float:\n",
    "    return value ** power\n",
    "\n",
    "agent = Agent.Agent([circumference_calculator, power_calculator], \"gpt-4\")\n",
    "response = agent.run(\"What is the 2.5 raised to the power of 5.5?\")\n",
    "print(\"answer: \", response)"
   ]
  },
  {
   "cell_type": "code",
   "execution_count": null,
   "metadata": {},
   "outputs": [],
   "source": []
  }
 ],
 "metadata": {
  "kernelspec": {
   "display_name": "venv",
   "language": "python",
   "name": "python3"
  },
  "language_info": {
   "codemirror_mode": {
    "name": "ipython",
    "version": 3
   },
   "file_extension": ".py",
   "mimetype": "text/x-python",
   "name": "python",
   "nbconvert_exporter": "python",
   "pygments_lexer": "ipython3",
   "version": "3.11.2"
  },
  "orig_nbformat": 4
 },
 "nbformat": 4,
 "nbformat_minor": 2
}
