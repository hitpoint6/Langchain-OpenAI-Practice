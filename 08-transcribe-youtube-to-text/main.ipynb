{
 "cells": [
  {
   "attachments": {},
   "cell_type": "markdown",
   "metadata": {},
   "source": [
    "# Transcribe youtube audio to text"
   ]
  },
  {
   "cell_type": "code",
   "execution_count": null,
   "metadata": {},
   "outputs": [],
   "source": [
    "# !pip install openai\n",
    "# !pip install pytube -q"
   ]
  },
  {
   "attachments": {},
   "cell_type": "markdown",
   "metadata": {},
   "source": [
    "### Get audio from youtube video"
   ]
  },
  {
   "cell_type": "code",
   "execution_count": null,
   "metadata": {},
   "outputs": [],
   "source": [
    "from pytube import YouTube\n",
    "video_id = \"hixrHmqf2zc\"\n",
    "youtube_video_url = f\"https://www.youtube.com/watch?v={video_id}\"\n",
    "youtube_video = YouTube(youtube_video_url)"
   ]
  },
  {
   "cell_type": "code",
   "execution_count": null,
   "metadata": {},
   "outputs": [],
   "source": [
    "title = youtube_video.title\n",
    "title"
   ]
  },
  {
   "cell_type": "code",
   "execution_count": null,
   "metadata": {},
   "outputs": [],
   "source": [
    "for stream in youtube_video.streams.filter(only_audio=True):\n",
    "  print(stream)"
   ]
  },
  {
   "cell_type": "code",
   "execution_count": null,
   "metadata": {},
   "outputs": [],
   "source": [
    "first_stream = youtube_video.streams.filter(only_audio=True).first()\n",
    "first_stream"
   ]
  },
  {
   "cell_type": "code",
   "execution_count": null,
   "metadata": {},
   "outputs": [],
   "source": [
    "import os\n",
    "audio_dir = \"audio\"\n",
    "if not os.path.exists(audio_dir):\n",
    "    os.makedirs(audio_dir)\n",
    "\n",
    "stream.download(filename=f'{audio_dir}/youtube_audio.mp3')"
   ]
  },
  {
   "attachments": {},
   "cell_type": "markdown",
   "metadata": {},
   "source": [
    "### Chunk into smaller parts\n"
   ]
  },
  {
   "cell_type": "code",
   "execution_count": null,
   "metadata": {},
   "outputs": [],
   "source": [
    "# Use pydub to segment the audio file\n",
    "!pip install pydub"
   ]
  },
  {
   "cell_type": "code",
   "execution_count": null,
   "metadata": {},
   "outputs": [],
   "source": [
    "from pydub import AudioSegment\n",
    "\n",
    "audio = AudioSegment.from_file(\"youtube_audio.mp3\")"
   ]
  },
  {
   "cell_type": "code",
   "execution_count": null,
   "metadata": {},
   "outputs": [],
   "source": [
    "audio_length = audio.duration_seconds\n",
    "audio_length"
   ]
  },
  {
   "cell_type": "code",
   "execution_count": null,
   "metadata": {},
   "outputs": [],
   "source": [
    "mins = 10 * 60 * 1000\n",
    "file_counter = 1\n",
    "start_time = 0\n",
    "\n",
    "while start_time < audio_length * 1000:\n",
    "    part = audio[start_time : start_time + mins]\n",
    "    part.export(f\"{audio_dir}/part{file_counter}.mp3\", format=\"mp3\")\n",
    "    file_counter += 1\n",
    "    start_time += mins"
   ]
  },
  {
   "attachments": {},
   "cell_type": "markdown",
   "metadata": {},
   "source": [
    "### Transcribe using Whisper API"
   ]
  },
  {
   "cell_type": "code",
   "execution_count": null,
   "metadata": {},
   "outputs": [],
   "source": [
    "import openai\n",
    "api_key = input(\"Enter your open ai api key: \")\n",
    "openai.api_key = api_key"
   ]
  },
  {
   "cell_type": "code",
   "execution_count": null,
   "metadata": {},
   "outputs": [],
   "source": [
    "transcript = \"\"\n",
    "for count in range(1, file_counter):\n",
    "  file = f\"{audio_dir}/part{count}.mp3\"\n",
    "  audio_file= open(file, \"rb\")\n",
    "  obj = openai.Audio.transcribe(\"whisper-1\", audio_file)\n",
    "  transcript += obj[\"text\"]"
   ]
  },
  {
   "attachments": {},
   "cell_type": "markdown",
   "metadata": {},
   "source": [
    "Add a new paragrah every 3 sentences for easier reading.\n",
    "\n",
    "Thoughts: How can we split into paragraphs naturally?"
   ]
  },
  {
   "cell_type": "code",
   "execution_count": null,
   "metadata": {},
   "outputs": [],
   "source": [
    "structured_script = \"\"\n",
    "num_sentence = 0\n",
    "num_characters = 0\n",
    "\n",
    "for c in transcript:\n",
    "  structured_script += c\n",
    "  if c == \".\":\n",
    "    num_sentence +=1\n",
    "    if num_sentence >= 4 and num_characters >= 100:\n",
    "      structured_script += \"\\n\\n\"\n",
    "      num_sentence = 0\n",
    "      num_characters = 0\n",
    "  num_characters += 1\n",
    "\n",
    "with open(f\"{audio_dir}/structured_transcript.txt\", 'w') as file:\n",
    "  file.write(structured_script)"
   ]
  },
  {
   "attachments": {},
   "cell_type": "markdown",
   "metadata": {},
   "source": [
    "### Another option: use Youtube Transcribe API.\n",
    "\n",
    "This works if the youtube video has subtitle enabled.\n"
   ]
  },
  {
   "cell_type": "code",
   "execution_count": null,
   "metadata": {},
   "outputs": [],
   "source": [
    "# !pip install youtube-transcript-api"
   ]
  },
  {
   "cell_type": "code",
   "execution_count": null,
   "metadata": {},
   "outputs": [],
   "source": [
    "from youtube_transcript_api import YouTubeTranscriptApi\n",
    "YouTubeTranscriptApi.get_transcript(video_id)"
   ]
  }
 ],
 "metadata": {
  "kernelspec": {
   "display_name": "venv",
   "language": "python",
   "name": "python3"
  },
  "language_info": {
   "codemirror_mode": {
    "name": "ipython",
    "version": 3
   },
   "file_extension": ".py",
   "mimetype": "text/x-python",
   "name": "python",
   "nbconvert_exporter": "python",
   "pygments_lexer": "ipython3",
   "version": "3.10.9"
  },
  "orig_nbformat": 4
 },
 "nbformat": 4,
 "nbformat_minor": 2
}
