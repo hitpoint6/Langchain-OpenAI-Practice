{
 "cells": [
  {
   "attachments": {},
   "cell_type": "markdown",
   "metadata": {},
   "source": [
    "# Build a chatbot that can\n",
    "1. retrieve information from knowledgebase.\n",
    "- Load Liver Cancer handbook and store it in vector database.\n",
    "- Add retrievalqa chain to the agent.\n",
    "\n",
    "2. Remember the previous conversations.\n",
    " - Use conversation buffer memory\n",
    " - Use conversation agent.\n"
   ]
  },
  {
   "attachments": {},
   "cell_type": "markdown",
   "metadata": {},
   "source": [
    "### Build the external knowledge base"
   ]
  },
  {
   "cell_type": "code",
   "execution_count": 2,
   "metadata": {},
   "outputs": [
    {
     "data": {
      "text/plain": [
       "'Ü'"
      ]
     },
     "execution_count": 2,
     "metadata": {},
     "output_type": "execute_result"
    }
   ],
   "source": [
    "from langchain.document_loaders import PyPDFLoader\n",
    "\n",
    "loader = PyPDFLoader(\"liver-hp-patient.pdf\")\n",
    "pages = loader.load_and_split()"
   ]
  },
  {
   "cell_type": "code",
   "execution_count": 4,
   "metadata": {},
   "outputs": [
    {
     "data": {
      "text/plain": [
       "'2\\nNCCN Guidelines for Patients® \\nLiver Cancer, 2021About\\nThese NCCN Guidelines for Patients are based on the NCCN Guidelines® for Hepatobiliary Cancers (Version \\n2.2021, April 16, 2021). \\n© 2021 National Comprehensive Cancer Network, Inc. All rights reserved. \\nNCCN Guidelines for Patients and illustrations herein may not be reproduced in \\nany form for any purpose without the express written permission of NCCN. No \\none, including doctors or patients, may use the NCCN Guidelines for Patients for \\nany commercial purpose and may not claim, represent, or imply that the NCCN \\nGuidelines for Patients that have been modified in any manner are derived \\nfrom, based on, related to, or arise out of the NCCN Guidelines for Patients. \\nThe NCCN Guidelines are a work in progress that may be redefined as often \\nas new significant data become available. NCCN makes no warranties of any \\nkind whatsoever regarding its content, use, or application and disclaims any \\nresponsibility for its application or use in any way.NCCN Foundation  seeks to support the millions of patients and their families \\naffected by a cancer diagnosis by funding and distributing NCCN Guidelines for \\nPatients. NCCN Foundation is also committed to advancing cancer treatment \\nby funding the nation’s promising doctors at the center of innovation in cancer \\nresearch. For more details and the full library of patient and caregiver resources, \\nvisit NCCN.org/patients . \\nNational Comprehensive Cancer Network (NCCN) / NCCN Foundation  \\n3025 Chemical Road, Suite 100  \\nPlymouth Meeting, PA 19462  \\n215.690.0300NCCN Guidelines for Patients® are developed by  \\nthe National Comprehensive Cancer Network® (NCCN®)\\nand supported by funding from NCCN Foundation®National Comprehensive \\nCancer Network®\\nNCCN  \\n9\\tAn alliance of leading \\ncancer centers across the \\nUnited States devoted to \\npatient care, research, and \\neducation\\nCancer centers  \\nthat are part of NCCN:  \\nNCCN.org/cancercentersNCCN Guidelines  \\nfor Patients\\n9\\tPresent information from the \\nNCCN Guidelines in an easy-\\nto-learn format\\n9\\tFor people with cancer and \\nthose who support them \\n9\\tExplain the cancer care \\noptions likely to have the  \\nbest results\\nFree online at  \\nNCCN.org/patientguidelinesNCCN Clinical Practice \\nGuidelines in Oncology  \\n(NCCN Guidelines®)\\n9\\tDeveloped by doctors from \\nNCCN cancer centers using \\nthe latest research and years \\nof experience\\n9\\tFor providers of cancer care \\nall over the world \\n9\\tExpert recommendations for \\ncancer screening, diagnosis, \\nand treatment\\nFree online at  \\nNCCN.org/guidelinesÜ Ü'"
      ]
     },
     "execution_count": 4,
     "metadata": {},
     "output_type": "execute_result"
    }
   ],
   "source": [
    "pages[3].page_content"
   ]
  },
  {
   "cell_type": "code",
   "execution_count": 15,
   "metadata": {},
   "outputs": [],
   "source": [
    "import tiktoken\n",
    "\n",
    "BASE_MODEL = \"gpt-4\"\n",
    "\n",
    "def count_tokens(text):\n",
    "    tokenizer = tiktoken.encoding_for_model(BASE_MODEL)\n",
    "    count = len(tokenizer.encode(text))\n",
    "    return count"
   ]
  },
  {
   "cell_type": "code",
   "execution_count": 26,
   "metadata": {},
   "outputs": [],
   "source": [
    "from langchain.text_splitter import RecursiveCharacterTextSplitter\n",
    "\n",
    "def split_page_to_chunks(page: str) -> list[str]:\n",
    "    splitter = RecursiveCharacterTextSplitter(\n",
    "        chunk_size=400, \n",
    "        chunk_overlap=50, \n",
    "        length_function=count_tokens, \n",
    "        separators=[\"\\n\\n\", \"\\n\", \" \", \"\"])\n",
    "    \n",
    "    chunks = [chunk.replace(\"\\n\", \" \") for chunk in splitter.split_text(page)]\n",
    "    \n",
    "    return chunks"
   ]
  },
  {
   "cell_type": "code",
   "execution_count": 42,
   "metadata": {},
   "outputs": [],
   "source": [
    "import openai\n",
    "from getpass import getpass\n",
    "\n",
    "OPENAI_API_KEY = getpass(\"Enter your OpenAI API key: \")"
   ]
  },
  {
   "cell_type": "code",
   "execution_count": 60,
   "metadata": {},
   "outputs": [
    {
     "name": "stdout",
     "output_type": "stream",
     "text": [
      "1536\n"
     ]
    }
   ],
   "source": [
    "from langchain.embeddings.openai import OpenAIEmbeddings\n",
    "\n",
    "\n",
    "embed = OpenAIEmbeddings(\n",
    "    model=\"text-embedding-ada-002\",\n",
    "    openai_api_key=OPENAI_API_KEY)\n",
    "    \n",
    "example_texts = [\"A happy moment\"]\n",
    "example_embedding = embed.embed_documents(example_texts)\n",
    "\n",
    "example_length = len(example_embedding[0])\n",
    "print(example_length)"
   ]
  },
  {
   "cell_type": "code",
   "execution_count": 37,
   "metadata": {},
   "outputs": [],
   "source": [
    "# Save to pinecone\n",
    "\n",
    "import pinecone\n",
    "\n",
    "PINECONE_API_KEY = getpass(\"PINECONE_API_KEY\")\n",
    "PINECONE_ENV = getpass(\"PINECONE_ENV\")\n",
    "\n",
    "index_name = 'liver-cancer-retriveval-augmentation'\n",
    "pinecone.init(\n",
    "    api_key=PINECONE_API_KEY,\n",
    "    environment=PINECONE_ENV\n",
    ")\n",
    "\n",
    "pinecone.create_index(\n",
    "    name=index_name, \n",
    "    metric=\"dotproduct\",\n",
    "    dimension=example_length)\n"
   ]
  },
  {
   "cell_type": "code",
   "execution_count": 39,
   "metadata": {},
   "outputs": [
    {
     "data": {
      "text/plain": [
       "{'dimension': 1536,\n",
       " 'index_fullness': 0.0,\n",
       " 'namespaces': {},\n",
       " 'total_vector_count': 0}"
      ]
     },
     "execution_count": 39,
     "metadata": {},
     "output_type": "execute_result"
    }
   ],
   "source": [
    "index_name = 'liver-cancer-retriveval-augmentation'\n",
    "\n",
    "index = pinecone.Index(index_name)\n",
    "index.describe_index_stats()"
   ]
  },
  {
   "cell_type": "code",
   "execution_count": 56,
   "metadata": {},
   "outputs": [],
   "source": [
    "from uuid import uuid4\n",
    "\n",
    "texts = []\n",
    "for page in pages:\n",
    "    texts.extend(split_page_to_chunks(page.page_content))\n",
    "\n",
    "metadatas = [{\"chunk\": j, \"text\": text} for j, text in enumerate(texts)]\n",
    "embeddings = embed.embed_documents(texts)\n",
    "ids = [str(uuid4()) for _ in range(len(texts))]\n",
    "combined = zip(ids, embeddings, metadatas)"
   ]
  },
  {
   "cell_type": "code",
   "execution_count": 57,
   "metadata": {},
   "outputs": [
    {
     "data": {
      "text/plain": [
       "{'upserted_count': 122}"
      ]
     },
     "execution_count": 57,
     "metadata": {},
     "output_type": "execute_result"
    }
   ],
   "source": [
    "index.upsert(vectors=combined)"
   ]
  },
  {
   "cell_type": "code",
   "execution_count": 71,
   "metadata": {},
   "outputs": [],
   "source": [
    "from langchain.vectorstores import Pinecone\n",
    "\n",
    "text_field = \"text\"\n",
    "index = pinecone.Index(index_name)\n",
    "vectorstore = Pinecone(\n",
    "    index=index, \n",
    "    embedding_function=embed.embed_query, \n",
    "    text_key=text_field)\n",
    "query = \"What is liver cancer?\"\n",
    "top = vectorstore.similarity_search(query, k=3)\n"
   ]
  },
  {
   "cell_type": "code",
   "execution_count": 72,
   "metadata": {},
   "outputs": [
    {
     "name": "stdout",
     "output_type": "stream",
     "text": [
      "page_content='9 NCCN Guidelines for Patients®  Liver Cancer, 20211 Liver cancer basics  Liver cancer  1 Liver cancer basics  Liver cancer | How liver cancer spreads Liver cancer Cancer that starts in the liver is called primary  liver cancer. Secondary liver cancer is when  other cancer types spread to the liver. For  example, cancer can start in the intestines  (colon) and spread to the liver. This is called  metastatic colon cancer in the liver. There is more than one type of primary liver  cancer in adults. The most common type is  hepatocellular carcinoma (HCC). There is a  subtype of HCC called FLHC (fibrolamellar  hepatocellular carcinoma). FLHC affects very  few people and usually occurs at a younger  age.  The second most common type of primary  liver cancer in adults is called intrahepatic  cholangiocarcinoma, which is a cancer of the  bile ducts. Other primary liver cancers in adults  include rare types of sarcoma that start in the  blood vessel cells of the liver. Another rare type  is made of both hepatocellular carcinoma and  cholangiocarcinoma (this is called a mixed-type  tumor).   Information on bile  duct and gallbladder  tumors can be found in  NCCN Guidelines for  Patients: Gallbladder  and Bile Duct Cancers ,  available at NCCN.org/ patientguidelines . Information on  sarcomas in the liver  can be found in NCCN  Guidelines for Patients:  Soft Tissue Sarcoma ,  available at NCCN.org/ patientguidelines .' metadata={'chunk': 12.0}\n",
      "page_content='6 NCCN Guidelines for Patients®  Liver Cancer, 20216 1 Liver cancer basics 7 The liver 9 Liver cancer 9 How liver cancer spreads 10 Cancer stages   14 Risk factors  16 Screening  16 Key points' metadata={'chunk': 8.0}\n",
      "page_content='13 NCCN Guidelines for Patients®  Liver Cancer, 20211 Liver cancer basics  Cancer stages   Stage 3 In stage 3a liver cancer, there are multiple  tumors. One of these tumor is larger than 5 cm.  Cancer has not spread to lymph nodes (N0) or  other parts of the body (M0). In stage 3b liver cancer, there is a single tumor  or multiple tumors of any size involving a major  branch of the portal vein or hepatic vein, or  tumor(s) that involve nearby organs (other than  the gallbladder) or the peritoneum (lining of the  abdomen). Cancer has not spread to lymph  nodes (N0) or other parts of the body (M0).Stage 4 In stage 4A liver cancer, the cancer is any size  and there may be more than one tumor in the  liver. It may have grown into blood vessels or  the organs around the liver. Cancer has spread  to lymph nodes (N1), but not to other parts of  the body (M0). Stage 4B liver cancer is cancer that has spread  to distant parts of the body (M1). The tumor can  be any size and there may be more than one  tumor in the liver. Cancer might be in the lymph  nodes. This is called metastatic liver cancer.  Bile duct anatomy The left and right hepatic  ducts join to form the common  hepatic duct. The common  hepatic duct joins with the  cystic duct that connects  to the gallbladder to form  the common bile duct. The  common bile duct is joined by  the pancreatic duct just before' metadata={'chunk': 19.0}\n"
     ]
    }
   ],
   "source": [
    "for t in top:\n",
    "    print(t)"
   ]
  },
  {
   "attachments": {},
   "cell_type": "markdown",
   "metadata": {},
   "source": [
    "### Check the knowledge base"
   ]
  },
  {
   "cell_type": "code",
   "execution_count": 90,
   "metadata": {},
   "outputs": [],
   "source": [
    "from langchain.chains import RetrievalQA\n",
    "from langchain.chat_models import ChatOpenAI\n",
    "\n",
    "llm = ChatOpenAI(\n",
    "    model=\"gpt-4\",\n",
    "    temperature=0,\n",
    "    openai_api_key=OPENAI_API_KEY,\n",
    ")\n",
    "\n",
    "qa_chain = RetrievalQA.from_chain_type(\n",
    "    llm=llm,\n",
    "    chain_type=\"stuff\",\n",
    "    retriever=vectorstore.as_retriever(),\n",
    "    verbose=True,\n",
    "    return_source_documents=True,\n",
    ")"
   ]
  },
  {
   "cell_type": "code",
   "execution_count": null,
   "metadata": {},
   "outputs": [],
   "source": [
    "result = qa_chain({\"query\": \"What is liver cancer?\"})"
   ]
  },
  {
   "cell_type": "code",
   "execution_count": 92,
   "metadata": {},
   "outputs": [
    {
     "data": {
      "text/plain": [
       "'Liver cancer is a type of cancer that starts in the liver, known as primary liver cancer. There are different types of primary liver cancer in adults, with the most common being hepatocellular carcinoma (HCC). There is also a subtype of HCC called fibrolamellar hepatocellular carcinoma (FLHC), which affects very few people and usually occurs at a younger age. The second most common type of primary liver cancer in adults is intrahepatic cholangiocarcinoma, a cancer of the bile ducts. Other types include rare types of sarcoma that start in the blood vessel cells of the liver, and a rare type made of both hepatocellular carcinoma and cholangiocarcinoma, called a mixed-type tumor. Secondary liver cancer is when other types of cancer spread to the liver, such as metastatic colon cancer in the liver.'"
      ]
     },
     "execution_count": 92,
     "metadata": {},
     "output_type": "execute_result"
    }
   ],
   "source": [
    "result[\"result\"]"
   ]
  },
  {
   "cell_type": "code",
   "execution_count": null,
   "metadata": {},
   "outputs": [],
   "source": [
    "result = qa_chain({\"query\": \"What are the causes for liver cancer?\"})"
   ]
  },
  {
   "cell_type": "code",
   "execution_count": 97,
   "metadata": {},
   "outputs": [
    {
     "name": "stdout",
     "output_type": "stream",
     "text": [
      "The causes for liver cancer include:\n",
      "\n",
      "1. Cirrhosis: This is a long-term liver disease where liver cells are replaced by scar tissue. It can be caused by Hepatitis B, Hepatitis C, alcohol, non-alcoholic fatty liver disease (NAFLD), genetic hemochromatosis, stage 4 primary biliary cholangitis, alpha-1-antitrypsin deficiency, and other causes.\n",
      "\n",
      "2. Hepatitis: Hepatitis B (HBV) and Hepatitis C (HCV) can cause scarring of the liver (cirrhosis), liver failure, and liver cancer.\n",
      "\n",
      "3. Alcohol: Drinking too much alcohol can cause damage to the liver.\n",
      "\n",
      "4. Non-alcoholic fatty liver disease (NAFLD): This is seen in obese people or those with diabetes, high cholesterol, and a few other conditions. Having NAFLD may lead to cirrhosis in people who drink little or no alcohol.\n",
      "\n",
      "5. Genetic hemochromatosis: This is an inherited condition that causes the liver to store too much iron from food.\n",
      "\n",
      "6. Other risk factors: Diabetes, obesity, or other problems with processing sugar may put someone at risk for liver cancer.\n",
      "\n",
      "7. Other causes of cirrhosis: These include Hepatitis B, Hepatitis C, alcohol, non-alcoholic fatty liver disease (NAFLD), genetic hemochromatosis, stage 4 primary biliary cholangitis, alpha-1-antitrypsin deficiency, and other causes.\n",
      "\n",
      "8. Additional risk factors include being a HBV carrier with a family history of liver cancer, being an Asian male over 40 years of age, being an Asian female over 50 years of age, and being an African/North American Black with hepatitis B.\n"
     ]
    }
   ],
   "source": [
    "print(result[\"result\"])"
   ]
  },
  {
   "cell_type": "code",
   "execution_count": 100,
   "metadata": {},
   "outputs": [
    {
     "name": "stdout",
     "output_type": "stream",
     "text": [
      "15 NCCN Guidelines for Patients®  Liver Cancer, 20211 Liver cancer basics  Risk factors  Cirrhosis Cirrhosis is scarring of the liver. It is a type of  long-term (chronic) liver disease where liver  cells are replaced by scar tissue. If you have  cirrhosis, you should be screened for liver  cancer. Cirrhosis can be caused by:  Hepatitis B  Hepatitis C  Alcohol  Non-alcoholic fatty liver disease (NAFLD)  Genetic hemochromatosis  Stage 4 primary biliary cholangitis  Alpha-1-antitrypsin deficiency  Other causes of cirrhosisHepatitis Hepatitis is a type of liver disease. Viruses  called hepatitis A, hepatitis B (HBV), and  hepatitis C (HCV) are the most common  types of hepatitis. HBV and HCV are spread  by contact with blood and other bodily fluids.  HBV and HCV can cause scarring of the liver  (cirrhosis), liver failure, and liver cancer. If you  have chronic HBV, you should be screened for  liver cancer.  Other risk factors Drinking too much alcohol can cause damage  to the liver. Having NAFLD may lead to  cirrhosis in people who drink little or no alcohol.  NAFLD is seen in obese people or those with  diabetes, high cholesterol, and a few other  conditions. Diabetes, obesity, or other problems  with processing sugar may put someone at risk  for liver cancer. Genetic hemochromatosis is an\n",
      "\n",
      "14 NCCN Guidelines for Patients®  Liver Cancer, 20211 Liver cancer basics  Risk factors  Risk factors  A risk factor is anything that increases your  chances of having a disease like cancer. Risk  factors can be activities that people do, things  in the environment, or traits passed from  parents to children through genes. Genes  are coded instructions for the proteins your  cells make. A mutation is when something  goes wrong in the genetic code. Mutations  can be passed down in families or can occur  spontaneously. In other words, they may be  present before you are born (inherited) or  caused by genetic damage (acquired) later in  life. For a list of risk factors, see Guide 2.  Risk is based on:  Those with cirrhosis  Those without cirrhosis Guide 2  Risk factors for liver cancer Those with cirrhosis or chronic hepatitis B should be enrolled in a liver cancer screening program Those without cirrhosis  • Hepatitis B • Hepatitis C • Alcohol • Non-alcoholic fatty liver disease (NAFLD)  • Genetic hemochromatosis • Stage 4 primary biliary cholangitis • Alpha-1-antitrypsin deficiency • Other causes of cirrhosis Those without cirrhosis • Hepatitis B • Additional risk factors include HBV carrier with family history of liver cancer, Asian males 40 years  of age or over, Asian females 50 years of age or over, and African/North American Blacks with  hepatitis B\n",
      "\n",
      "9 NCCN Guidelines for Patients®  Liver Cancer, 20211 Liver cancer basics  Liver cancer  1 Liver cancer basics  Liver cancer | How liver cancer spreads Liver cancer Cancer that starts in the liver is called primary  liver cancer. Secondary liver cancer is when  other cancer types spread to the liver. For  example, cancer can start in the intestines  (colon) and spread to the liver. This is called  metastatic colon cancer in the liver. There is more than one type of primary liver  cancer in adults. The most common type is  hepatocellular carcinoma (HCC). There is a  subtype of HCC called FLHC (fibrolamellar  hepatocellular carcinoma). FLHC affects very  few people and usually occurs at a younger  age.  The second most common type of primary  liver cancer in adults is called intrahepatic  cholangiocarcinoma, which is a cancer of the  bile ducts. Other primary liver cancers in adults  include rare types of sarcoma that start in the  blood vessel cells of the liver. Another rare type  is made of both hepatocellular carcinoma and  cholangiocarcinoma (this is called a mixed-type  tumor).   Information on bile  duct and gallbladder  tumors can be found in  NCCN Guidelines for  Patients: Gallbladder  and Bile Duct Cancers ,  available at NCCN.org/ patientguidelines . Information on  sarcomas in the liver  can be found in NCCN  Guidelines for Patients:  Soft Tissue Sarcoma ,  available at NCCN.org/ patientguidelines .\n",
      "\n",
      "diabetes, high cholesterol, and a few other  conditions. Diabetes, obesity, or other problems  with processing sugar may put someone at risk  for liver cancer. Genetic hemochromatosis is an  inherited condition that causes the liver to store  too much iron from food. Cirrhosis is severe scarring of the liver.\n",
      "\n"
     ]
    }
   ],
   "source": [
    "for d in result[\"source_documents\"]:\n",
    "    print(d.page_content)\n",
    "    print()"
   ]
  },
  {
   "attachments": {},
   "cell_type": "markdown",
   "metadata": {},
   "source": [
    "#### Build the conversation agent with langchain"
   ]
  },
  {
   "cell_type": "code",
   "execution_count": 102,
   "metadata": {},
   "outputs": [],
   "source": [
    "from langchain.chains.conversation.memory import ConversationBufferMemory\n",
    "from langchain.chains import ConversationChain\n",
    "\n",
    "conversation_chain = ConversationChain(\n",
    "    llm=llm,\n",
    "    memory=ConversationBufferMemory(),\n",
    ")"
   ]
  },
  {
   "cell_type": "code",
   "execution_count": null,
   "metadata": {},
   "outputs": [],
   "source": [
    "conversation_chain(\"What are the treatments for liver cancer?\")"
   ]
  },
  {
   "cell_type": "code",
   "execution_count": 129,
   "metadata": {},
   "outputs": [],
   "source": [
    "from langchain.agents import Tool, initialize_agent\n",
    "\n",
    "tools = [Tool(\n",
    "    name=\"Knowledge Base\",\n",
    "    description=\"use this tool when answering general knowledge queries to get more information about the topic\",\n",
    "    func=qa_chain.run\n",
    ")]"
   ]
  },
  {
   "cell_type": "code",
   "execution_count": 130,
   "metadata": {},
   "outputs": [],
   "source": [
    "conversational_agent = initialize_agent(\n",
    "    tools=tools,\n",
    "    llm=llm,\n",
    "    agent=\"conversational-react-description\",\n",
    "    verbose=True,\n",
    "    max_iterations=3,\n",
    "    memory=ConversationBufferMemory(memory_key=\"chat_history\"),\n",
    ")\n"
   ]
  },
  {
   "cell_type": "code",
   "execution_count": null,
   "metadata": {},
   "outputs": [],
   "source": [
    "conversational_agent(\"What is the website to learn more about sarcomas in NCCN\")"
   ]
  },
  {
   "cell_type": "code",
   "execution_count": null,
   "metadata": {},
   "outputs": [],
   "source": [
    "print(conversational_agent.agent.llm_chain.prompt.template)"
   ]
  }
 ],
 "metadata": {
  "kernelspec": {
   "display_name": "venv",
   "language": "python",
   "name": "python3"
  },
  "language_info": {
   "codemirror_mode": {
    "name": "ipython",
    "version": 3
   },
   "file_extension": ".py",
   "mimetype": "text/x-python",
   "name": "python",
   "nbconvert_exporter": "python",
   "pygments_lexer": "ipython3",
   "version": "3.10.9"
  },
  "orig_nbformat": 4
 },
 "nbformat": 4,
 "nbformat_minor": 2
}
