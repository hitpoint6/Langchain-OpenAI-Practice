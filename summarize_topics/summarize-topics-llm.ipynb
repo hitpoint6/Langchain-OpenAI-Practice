{
 "cells": [
  {
   "cell_type": "markdown",
   "metadata": {},
   "source": [
    "# Summarize topics using LLM\n"
   ]
  },
  {
   "cell_type": "markdown",
   "metadata": {},
   "source": [
    "Test how it performs when the text can be fitted into a fix size context window:\n"
   ]
  },
  {
   "cell_type": "code",
   "execution_count": 1,
   "metadata": {},
   "outputs": [],
   "source": [
    "import openai\n",
    "from getpass import getpass\n",
    "\n",
    "openai.api_key = getpass(\"Enter your OpenAI API key: \")"
   ]
  },
  {
   "cell_type": "code",
   "execution_count": 3,
   "metadata": {},
   "outputs": [
    {
     "name": "stdout",
     "output_type": "stream",
     "text": [
      "New summary: {\"Weather Resistance\": 11, \"Privacy and Security\": 11, \"Video Quality\": 10}\n"
     ]
    }
   ],
   "source": [
    "GPT_MODEL = \"gpt-3.5-turbo\"\n",
    "\n",
    "\n",
    "def chat(messages: list, prompt: str) -> str:\n",
    "    messages.append({\"role\": \"user\", \"content\": prompt})\n",
    "    responses = openai.ChatCompletion.create(\n",
    "        model=GPT_MODEL,\n",
    "        messages=messages,\n",
    "    )\n",
    "    return responses.choices[0][\"message\"][\"content\"]\n",
    "\n",
    "\n",
    "def summarize(user_message: str) -> dict:\n",
    "    messages = []\n",
    "    system_message = \"\"\"\n",
    "    Role: Your role is to find the topics from the following messages and count how many messages in each topic.\n",
    "    \"\"\"\n",
    "    messages.append({\"role\": \"system\", \"content\": system_message})\n",
    "\n",
    "    prompt = f\"\"\"\n",
    "    You are an assitant to find the topics from the following messages and count how many messages in each topic, output as a dictionary.\n",
    "    \n",
    "    Example:\n",
    "    User: {{\"I want to eat apple.\" : 1 }}\n",
    "    {{\"I want to eat orange.\" : 2 }}\n",
    "    {{\"Hiking is fun.\" : 3 }}\n",
    "    {{\"Redwoods is great for hiking.\" : 2 }}\n",
    "    Assistant: {{\"Eating Fruit\": 3, \"Hking\": 5}}\n",
    "    \n",
    "    Now start:\n",
    "    User: {user_message}\n",
    "    Assistant:\n",
    "    \"\"\"\n",
    "    response = chat(messages, prompt)\n",
    "    return response\n",
    "\n",
    "\n",
    "user_message = \"\"\"\n",
    "Is the camera specifically designed for outdoor use, and if so, what weather conditions can it withstand?\n",
    "What is the Ingress Protection (IP) rating of the camera? (e.g., IP65, IP66, IP67) This indicates its resistance to dust and water.\n",
    "Can the camera withstand extreme temperatures, such as high heat in summer or freezing cold in winter?\n",
    "Is the camera sealed against moisture and rain, preventing water from entering the internal components?\n",
    "Does the camera have a protective housing or casing to shield it from harsh weather elements?\n",
    "How does the camera handle humidity and condensation, which can be common outdoor challenges?\n",
    "Can the camera's lens and sensor resist fogging or clouding caused by rapid temperature changes?\n",
    "Is the power source weather-resistant, and does it offer any additional protection against the elements?\n",
    "Does the camera come with any warranty or guarantee regarding its weather resistance capabilities?\n",
    "Are there any additional precautions or recommendations for installing the camera in specific weather conditions?\n",
    "Is the camera designed with built-in privacy features, such as physical lens covers or the ability to disable recording and streaming when needed?\n",
    "How is the camera's data stored, and what measures are in place to protect the stored footage from unauthorized access?\n",
    "Does the camera support secure encryption protocols for data transmission between the camera and your connected devices (e.g., smartphone, computer)?\n",
    "Are there any features that allow you to control when the camera is active and recording, such as scheduling recording times or geofencing?\n",
    "Does the camera offer user access controls, so you can set different permission levels for family members or other users accessing the camera's feed?\n",
    "Is the camera compliant with any privacy regulations or standards, such as GDPR (General Data Protection Regulation) or CCPA (California Consumer Privacy Act)?\n",
    "Does the camera have local storage options, so you can store video footage on a microSD card or a local network-attached storage (NAS) device, reducing reliance on cloud storage?\n",
    "Are there any features to anonymize or blur faces or sensitive information in recorded footage to protect the identity of individuals captured in the video?\n",
    "Can the camera differentiate between different users in your household to prevent unnecessary alerts or recordings?\n",
    "How does the camera handle software updates, and does the manufacturer regularly release updates to address security vulnerabilities?\n",
    "What is the camera's maximum video resolution, and is it adjustable?\n",
    "Does the camera support High Definition (HD) video (e.g., 720p, 1080p, etc.)?\n",
    "Can the camera record in Ultra High Definition (UHD) or 4K resolution?\n",
    "Is there a frames-per-second (FPS) specification for video recording, and how does it affect video smoothness?\n",
    "What is the field of view (FOV) or viewing angle of the camera's lens?\n",
    "How does the camera handle low-light or nighttime conditions? Is there night vision capability?\n",
    "Does the camera use any image-enhancing technologies (e.g., HDR, WDR) to improve video quality in challenging lighting situations?\n",
    "Can the camera handle dynamic lighting conditions, such as direct sunlight or glare?\n",
    "Does the camera have any image stabilization features to reduce video shake and improve clarity?\n",
    "How clear are the details captured by the camera during daytime and nighttime recordings?\n",
    "\"\"\"\n",
    "new_summary = summarize(user_message)\n",
    "print(\"New summary:\", new_summary)"
   ]
  },
  {
   "cell_type": "markdown",
   "metadata": {},
   "source": [
    "Looks pretty good. Now scale up to larger dataset\n"
   ]
  },
  {
   "cell_type": "markdown",
   "metadata": {},
   "source": [
    "## Summarize large dataset use mapreduce method\n",
    "\n",
    "Use questions to ask when buying security cameras as an example\n"
   ]
  },
  {
   "cell_type": "code",
   "execution_count": 25,
   "metadata": {},
   "outputs": [],
   "source": [
    "import pandas as pd\n",
    "import tiktoken\n",
    "from typing import List\n",
    "\n",
    "\n",
    "def num_tokens(text: str, model: str = GPT_MODEL) -> int:\n",
    "    \"\"\"Return the number of tokens in a string.\"\"\"\n",
    "    encoding = tiktoken.encoding_for_model(model)\n",
    "    return len(encoding.encode(text))"
   ]
  },
  {
   "cell_type": "markdown",
   "metadata": {},
   "source": [
    "Convert raw text into the desired chunks format\n"
   ]
  },
  {
   "cell_type": "code",
   "execution_count": 28,
   "metadata": {},
   "outputs": [],
   "source": [
    "def convert_series_to_chunks(series) -> List[str]:\n",
    "    chunks = []\n",
    "    for row in series:\n",
    "        new_text = row.replace(\"{\", \"\").replace(\n",
    "            \"}\", \"\").replace('\"', \"\").replace(\"\\n\", \" \")\n",
    "        new_dict = {new_text: 1}\n",
    "        chunks.append(str(new_dict))\n",
    "\n",
    "    return chunks"
   ]
  },
  {
   "cell_type": "markdown",
   "metadata": {},
   "source": [
    "Recurssively summarize the topics until 1 summary return\n"
   ]
  },
  {
   "cell_type": "code",
   "execution_count": 29,
   "metadata": {},
   "outputs": [],
   "source": [
    "max_quota = 2500\n",
    "\n",
    "\n",
    "def recursive_summarize(chunks: List[str]) -> List[str]:\n",
    "    print(\"*******looping\")\n",
    "    if len(chunks) <= 1:\n",
    "        return chunks\n",
    "\n",
    "    quota = max_quota\n",
    "    user_input = \"\"\n",
    "    new_chunks = []\n",
    "\n",
    "    for chunk in chunks:\n",
    "        line = str(chunk) + '\\n'\n",
    "        quota -= num_tokens(line)\n",
    "        user_input += line\n",
    "        if quota < 0:\n",
    "            new_chunk = summarize(user_input)\n",
    "            new_chunks.append(new_chunk)\n",
    "            quota = max_quota\n",
    "            user_input = \"\"\n",
    "\n",
    "    # Append the last bit:\n",
    "    if quota < max_quota:\n",
    "        new_chunk = summarize(user_input)\n",
    "        new_chunks.append(new_chunk)\n",
    "\n",
    "    return recursive_summarize(new_chunks)"
   ]
  },
  {
   "cell_type": "code",
   "execution_count": 35,
   "metadata": {},
   "outputs": [
    {
     "name": "stdout",
     "output_type": "stream",
     "text": [
      "<class 'pandas.core.frame.DataFrame'>\n",
      "RangeIndex: 185 entries, 0 to 184\n",
      "Data columns (total 1 columns):\n",
      " #   Column    Non-Null Count  Dtype \n",
      "---  ------    --------------  ----- \n",
      " 0   Question  185 non-null    object\n",
      "dtypes: object(1)\n",
      "memory usage: 1.6+ KB\n",
      "None\n"
     ]
    },
    {
     "data": {
      "text/html": [
       "<div>\n",
       "<style scoped>\n",
       "    .dataframe tbody tr th:only-of-type {\n",
       "        vertical-align: middle;\n",
       "    }\n",
       "\n",
       "    .dataframe tbody tr th {\n",
       "        vertical-align: top;\n",
       "    }\n",
       "\n",
       "    .dataframe thead th {\n",
       "        text-align: right;\n",
       "    }\n",
       "</style>\n",
       "<table border=\"1\" class=\"dataframe\">\n",
       "  <thead>\n",
       "    <tr style=\"text-align: right;\">\n",
       "      <th></th>\n",
       "      <th>Question</th>\n",
       "    </tr>\n",
       "  </thead>\n",
       "  <tbody>\n",
       "    <tr>\n",
       "      <th>0</th>\n",
       "      <td>What is the camera's resolution in megapixels?</td>\n",
       "    </tr>\n",
       "    <tr>\n",
       "      <th>1</th>\n",
       "      <td>Does the camera support 4K video?</td>\n",
       "    </tr>\n",
       "    <tr>\n",
       "      <th>2</th>\n",
       "      <td>Is the image quality clear enough to identify ...</td>\n",
       "    </tr>\n",
       "    <tr>\n",
       "      <th>3</th>\n",
       "      <td>How does the camera perform under different li...</td>\n",
       "    </tr>\n",
       "    <tr>\n",
       "      <th>4</th>\n",
       "      <td>Can I manually adjust the image settings?</td>\n",
       "    </tr>\n",
       "  </tbody>\n",
       "</table>\n",
       "</div>"
      ],
      "text/plain": [
       "                                            Question\n",
       "0     What is the camera's resolution in megapixels?\n",
       "1                  Does the camera support 4K video?\n",
       "2  Is the image quality clear enough to identify ...\n",
       "3  How does the camera perform under different li...\n",
       "4          Can I manually adjust the image settings?"
      ]
     },
     "execution_count": 35,
     "metadata": {},
     "output_type": "execute_result"
    }
   ],
   "source": [
    "df = pd.read_csv(\"security_camera_questions.csv\")\n",
    "print(df.info())\n",
    "df.head()"
   ]
  },
  {
   "cell_type": "code",
   "execution_count": null,
   "metadata": {},
   "outputs": [],
   "source": [
    "chunks = convert_series_to_chunks(df[\"Question\"])\n",
    "final_chunks = recursive_summarize(chunks)"
   ]
  },
  {
   "cell_type": "code",
   "execution_count": 39,
   "metadata": {},
   "outputs": [
    {
     "name": "stdout",
     "output_type": "stream",
     "text": [
      "{'Camera Specification': 4, 'Image Quality': 7, 'Camera Features': 12, 'Power and Connectivity': 8, 'Storage and Cloud': 7, 'Night Vision and Motion Detection': 16, 'Audio and Microphone': 7, 'Camera Design and Installation': 7, 'Pricing and Warranty': 6, 'Software and Compatibility': 12, 'Security and Privacy': 16, 'Camera Functionality and Performance': 13, 'Camera Maintenance and Lifespan': 7, 'Additional Features': 7, 'Customer Support and Policies': 7, 'Advanced Camera Functionality': 13, 'Camera Recording and Streaming': 11, 'Camera Logs and Analytics': 8, 'Facial and Object Recognition': 13, 'Network Connection': 1, 'Mesh Networking': 1, 'Live Demo': 1, 'Zoom Functionality': 1, 'Power Outages': 1, 'Surge Protection': 1, 'Dual-Band Wi-Fi': 1, 'Recalibration Frequency': 1, '3D Mapping': 1, 'Environmental Certifications': 1, 'Sustainability': 1}\n"
     ]
    }
   ],
   "source": [
    "import json\n",
    "\n",
    "summary_dict = json.loads(final_chunks[0].replace('\\n', ''))\n",
    "print(summary_dict)"
   ]
  },
  {
   "cell_type": "code",
   "execution_count": 64,
   "metadata": {},
   "outputs": [
    {
     "data": {
      "image/png": "[encoded data removed]",
      "text/plain": [
       "<Figure size 640x480 with 1 Axes>"
      ]
     },
     "metadata": {},
     "output_type": "display_data"
    }
   ],
   "source": [
    "import matplotlib.pyplot as plt\n",
    "\n",
    "topics = [(key, value) for key, value in summary_dict.items()]\n",
    "df = pd.DataFrame(topics, columns=[\"Topics\", \"Counts\"]).sort_values(\n",
    "    \"Counts\", ascending=True)\n",
    "\n",
    "df = df.tail(8)\n",
    "\n",
    "plt.barh(df[\"Topics\"], df[\"Counts\"])\n",
    "# df.head(5).plot(x='Topics', y='Counts', kind='bar',\n",
    "#                 color='purple', title='Topics Count Plot')\n",
    "plt.show()"
   ]
  }
 ],
 "metadata": {
  "kernelspec": {
   "display_name": "venv",
   "language": "python",
   "name": "python3"
  },
  "language_info": {
   "codemirror_mode": {
    "name": "ipython",
    "version": 3
   },
   "file_extension": ".py",
   "mimetype": "text/x-python",
   "name": "python",
   "nbconvert_exporter": "python",
   "pygments_lexer": "ipython3",
   "version": "3.10.9"
  },
  "orig_nbformat": 4
 },
 "nbformat": 4,
 "nbformat_minor": 2
}
