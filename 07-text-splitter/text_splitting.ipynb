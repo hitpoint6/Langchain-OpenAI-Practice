{
 "cells": [
  {
   "attachments": {},
   "cell_type": "markdown",
   "metadata": {},
   "source": [
    "### In summary\n",
    "Steps to build a recursive_text_splitter to split chunks each below a target length.\n",
    "\n",
    "1. Build a function to count the total number of tokens (This is different from counting words)\n",
    "2. Build a function that halves a piece of string by its delimiter\n",
    "3. Build a function that truncate a string based on the number of tokens\n",
    "4. Build a recursive_text_splitter that splits a body of text into chunks. Use halve method to cut it in half, feed each half to the function recurssively until they are smaller than the max_len required."
   ]
  },
  {
   "cell_type": "code",
   "execution_count": 8,
   "metadata": {},
   "outputs": [],
   "source": [
    "# Get number of tokens\n",
    "import tiktoken\n",
    "BASE_MODEL = \"gpt-4\"\n",
    "\n",
    "def num_tokens(text: str) -> int:\n",
    "    tokenizer = tiktoken.encoding_for_model(BASE_MODEL)\n",
    "    return len(tokenizer.encode(text))"
   ]
  },
  {
   "cell_type": "code",
   "execution_count": 53,
   "metadata": {},
   "outputs": [],
   "source": [
    "# Split a chunk of text into half, try to blanace the number of words in each half\n",
    "\n",
    "def halve_text(string: str, delimiter: str = '\\n') -> tuple[str, str]:\n",
    "    chunks = string.split(delimiter)\n",
    "    half = num_tokens(string) // 2\n",
    "    token_so_far = 0\n",
    "\n",
    "    for i, chunk in enumerate(chunks):\n",
    "        curr_token = num_tokens(chunk)\n",
    "        if token_so_far > half:\n",
    "            return (delimiter.join(chunks[:i]), delimiter.join(chunks[i:]))\n",
    "        else:\n",
    "            token_so_far += curr_token\n",
    "\n",
    "    return [\"\", \"\"]"
   ]
  },
  {
   "cell_type": "code",
   "execution_count": 54,
   "metadata": {},
   "outputs": [
    {
     "name": "stdout",
     "output_type": "stream",
     "text": [
      "\n",
      "The Jamaica Wine House, known locally as \"the Jampot\", is located in St Michael's Alley, Cornhill, in the heart of London's financial district. It was the first coffee house in London and was visited by the English diarist Samuel Pepys in 1660.\n",
      "\n",
      "[1] It is now a Grade II listed public house[2] and is set within a labyrinth of medieval courts and alleys in the City of London. It lies in the ward of Cornhill.\n",
      "\n",
      "The Jamaica Wine House has historic links to the sugar trade of the West Indies and the Ottoman Empire. \n",
      "\n",
      "There is a plaque on the wall which reads \"Here stood the first London Coffee house at the sign of the Pasqua Rosee's Head 1652.\" \n"
     ]
    }
   ],
   "source": [
    "text = \"\"\"\n",
    "The Jamaica Wine House, known locally as \"the Jampot\", is located in St Michael's Alley, Cornhill, in the heart of London's financial district. It was the first coffee house in London and was visited by the English diarist Samuel Pepys in 1660.\n",
    "\n",
    "[1] It is now a Grade II listed public house[2] and is set within a labyrinth of medieval courts and alleys in the City of London. It lies in the ward of Cornhill.\n",
    "\n",
    "The Jamaica Wine House has historic links to the sugar trade of the West Indies and the Ottoman Empire. \n",
    "\n",
    "There is a plaque on the wall which reads \"Here stood the first London Coffee house at the sign of the Pasqua Rosee's Head 1652.\" \n",
    "\n",
    "Pasqua Rosée, the proprietor, was the servant of a Levant Company merchant named Daniel Edwards, a trader in Ottoman goods, who imported the coffee and assisted Rosée in setting up the establishment. The coffee house, which opened in 1652, is known in some accounts as The Turk's Head.[3][4][5]\n",
    "\n",
    "The building that currently stands on the site is a 19th-century public house. This pub's licence was acquired by Shepherd Neame[6] and the premises were reopened after a restoration that finished in April 2009. \n",
    "\n",
    "There is a wood-panelled bar with three sections on the ground floor and downstairs restaurant.\n",
    "\n",
    "\"\"\"\n",
    "\n",
    "left, right = halve_text(text)\n",
    "print(left)"
   ]
  },
  {
   "cell_type": "code",
   "execution_count": 55,
   "metadata": {},
   "outputs": [
    {
     "name": "stdout",
     "output_type": "stream",
     "text": [
      "[40, 1093, 311, 8343, 68442, 13]\n"
     ]
    },
    {
     "data": {
      "text/plain": [
       "'I like to'"
      ]
     },
     "execution_count": 55,
     "metadata": {},
     "output_type": "execute_result"
    }
   ],
   "source": [
    "# Test how decode works\n",
    "\n",
    "import tiktoken\n",
    "model = \"gpt-3.5-turbo\"\n",
    "\n",
    "string = \"I like to eat bananas.\"\n",
    "max_tokens = 3\n",
    "tokenizer = tiktoken.encoding_for_model(model)\n",
    "encoded_string = tokenizer.encode(string)\n",
    "print(encoded_string)\n",
    "\n",
    "truncated_string = tokenizer.decode(encoded_string[:max_tokens])\n",
    "truncated_string"
   ]
  },
  {
   "cell_type": "code",
   "execution_count": 56,
   "metadata": {},
   "outputs": [],
   "source": [
    "# Truncate string\n",
    "\n",
    "def truncate_string(string: str, max_len: int) -> str:\n",
    "    tokenizer = tiktoken.encoding_for_model(BASE_MODEL)\n",
    "    encoded_string = tokenizer.encode(string)\n",
    "    truncated_string = tokenizer.decode(encoded_string[:max_len + 1])\n",
    "    return truncated_string"
   ]
  },
  {
   "cell_type": "code",
   "execution_count": 57,
   "metadata": {},
   "outputs": [
    {
     "name": "stdout",
     "output_type": "stream",
     "text": [
      "\n",
      "The Jamaica Wine House, known locally as \"the\n"
     ]
    }
   ],
   "source": [
    "t = truncate_string(text, 10)\n",
    "print(t)"
   ]
  },
  {
   "cell_type": "code",
   "execution_count": 58,
   "metadata": {},
   "outputs": [],
   "source": [
    "# Split string into chunks fo max_len recursively\n",
    "def recursive_text_splitter(text: str, max_len: int, max_recurssion: int) -> list[str]:\n",
    "    length = num_tokens(text)\n",
    "    if length <= max_len:\n",
    "        return [text]\n",
    "\n",
    "    if max_recurssion == 0:\n",
    "        return [truncate_string(text, max_len)]\n",
    "\n",
    "    for delimiter in [\"\\n\\n\", \"\\n\", \". \"]:\n",
    "        left, right = halve_text(text, delimiter)\n",
    "        if left == \"\" or right ==\"\":\n",
    "            # Try a more fine grained delminiator\n",
    "            continue\n",
    "\n",
    "        chunks = []\n",
    "        for half in [left, right]:\n",
    "            half_chunks = recursive_text_splitter(half, max_len, max_recurssion - 1)\n",
    "            chunks.extend(half_chunks)\n",
    "    \n",
    "        return chunks\n",
    "\n",
    "    # no split was found, just truncate\n",
    "    return [truncate_string(text, max_len)]"
   ]
  },
  {
   "cell_type": "code",
   "execution_count": 62,
   "metadata": {},
   "outputs": [
    {
     "name": "stdout",
     "output_type": "stream",
     "text": [
      "0 \n",
      "The Jamaica Wine House, known locally as \"the Jampot\", is located in St Michael's Alley, Cornhill, in the heart of London's financial district\n",
      "\n",
      "1 It was the first coffee house in London and was visited by the English diarist Samuel Pepys in 1660.\n",
      "\n",
      "2 [1] It is now a Grade II listed public house[2] and is set within a labyrinth of medieval courts and alleys in the City of London. It lies in the ward of Cornhill.\n",
      "\n",
      "3 The Jamaica Wine House has historic links to the sugar trade of the West Indies and the Ottoman Empire. \n",
      "\n",
      "There is a plaque on the wall which reads \"Here stood the first London Coffee house at the sign of the Pasqua Rosee's Head 165\n",
      "\n",
      "4 Pasqua Rosée, the proprietor, was the servant of a Levant Company merchant named Daniel Edwards, a trader in Ottoman goods, who imported the coffee and assisted Rosée in setting up the establishment\n",
      "\n",
      "5 The coffee house, which opened in 1652, is known in some accounts as The Turk's Head.[3][4][5]\n",
      "\n",
      "6 The building that currently stands on the site is a 19th-century public house. This pub's licence was acquired by Shepherd Neame[6] and the premises were reopened after a restoration that finished in April 2009. \n",
      "\n",
      "7 There is a wood-panelled bar with three sections on the ground floor and downstairs restaurant.\n",
      "\n",
      "\n",
      "\n"
     ]
    }
   ],
   "source": [
    "chunks = recursive_text_splitter(text, 50, 5)\n",
    "for i, c in enumerate(chunks):\n",
    "    print(i, c)\n",
    "    print()"
   ]
  },
  {
   "attachments": {},
   "cell_type": "markdown",
   "metadata": {},
   "source": []
  }
 ],
 "metadata": {
  "kernelspec": {
   "display_name": "venv",
   "language": "python",
   "name": "python3"
  },
  "language_info": {
   "codemirror_mode": {
    "name": "ipython",
    "version": 3
   },
   "file_extension": ".py",
   "mimetype": "text/x-python",
   "name": "python",
   "nbconvert_exporter": "python",
   "pygments_lexer": "ipython3",
   "version": "3.11.2"
  },
  "orig_nbformat": 4
 },
 "nbformat": 4,
 "nbformat_minor": 2
}
