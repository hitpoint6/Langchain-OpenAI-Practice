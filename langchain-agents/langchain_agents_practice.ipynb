{
 "cells": [
  {
   "attachments": {},
   "cell_type": "markdown",
   "metadata": {},
   "source": [
    "# Langchain Agents"
   ]
  },
  {
   "attachments": {},
   "cell_type": "markdown",
   "metadata": {},
   "source": [
    "Using agents we are able to give LLMs access to tools. These tools allow us to search the web, do maths, run code, and much more. Tools are utility chains under the hood.\n",
    "\n",
    "\n",
    "To define a agent:\n",
    "- define the tools to choose from\n",
    "- define the llm for reasoning\n",
    "- define the agent type (the prompt)\n",
    "\n",
    "\n",
    "Available agent types:\n",
    "\n",
    "1. Zero Shot React: does not have memory\n",
    "2. Conversational React Description: can remember things we have talked about\n",
    "3. React Docstore: Search and look up on a doc (wikipedia)\n",
    "4. Self Ask With Search: Extra information with a search engine. Ask follow-up questions and use the search to get intermediate answers."
   ]
  },
  {
   "cell_type": "code",
   "execution_count": null,
   "metadata": {},
   "outputs": [],
   "source": [
    "# ! pip install langchain, google-search_results"
   ]
  },
  {
   "cell_type": "code",
   "execution_count": 1,
   "metadata": {},
   "outputs": [],
   "source": [
    "from langchain.chat_models import ChatOpenAI\n",
    "from getpass import getpass\n",
    "\n",
    "OPENAI_API_KEY = getpass()\n",
    "\n",
    "llm = ChatOpenAI(\n",
    "    openai_api_key=OPENAI_API_KEY,\n",
    "    model=\"gpt-4\",\n",
    "    temperature=0\n",
    ")"
   ]
  },
  {
   "cell_type": "code",
   "execution_count": 2,
   "metadata": {},
   "outputs": [],
   "source": [
    "from langchain.callbacks import get_openai_callback\n",
    "\n",
    "def chat_and_count(agent, query):\n",
    "    with get_openai_callback() as cb:\n",
    "        result = agent(query)\n",
    "        print(f\"Spent a total of {cb.total_tokens} tokens\")\n",
    "\n",
    "    return result"
   ]
  },
  {
   "cell_type": "code",
   "execution_count": 4,
   "metadata": {},
   "outputs": [],
   "source": [
    "from langchain import SerpAPIWrapper \n",
    "# Use google search to get the results, need a serpapi key.\n",
    "\n",
    "SERPAPI_KEY = getpass(\"Enter your SerpAPI key: \")\n",
    "search = SerpAPIWrapper(serpapi_api_key=SERPAPI_KEY)"
   ]
  },
  {
   "cell_type": "code",
   "execution_count": 14,
   "metadata": {},
   "outputs": [],
   "source": [
    "from langchain.agents import initialize_agent, Tool\n",
    "\n",
    "tools = [\n",
    "    Tool(\n",
    "        name=\"Intermediate Answer\",\n",
    "        func=search.run,\n",
    "        description=\"Searches for an answer to your question on the internet\"\n",
    "    )\n",
    "]"
   ]
  },
  {
   "attachments": {},
   "cell_type": "markdown",
   "metadata": {},
   "source": [
    "### self-ask-with-search agent"
   ]
  },
  {
   "cell_type": "code",
   "execution_count": 15,
   "metadata": {},
   "outputs": [],
   "source": [
    "self_ask_with_search_agent = initialize_agent(\n",
    "    tools, \n",
    "    llm, \n",
    "    agent=\"self-ask-with-search\", \n",
    "    verbose=True)"
   ]
  },
  {
   "cell_type": "code",
   "execution_count": 16,
   "metadata": {},
   "outputs": [
    {
     "name": "stdout",
     "output_type": "stream",
     "text": [
      "\n",
      "\n",
      "\u001b[1m> Entering new  chain...\u001b[0m\n",
      "\u001b[32;1m\u001b[1;3mYes.\n",
      "Follow up: When was the 2023 xgame men's superpipe final?\u001b[0m\n",
      "Intermediate answer: \u001b[36;1m\u001b[1;3mWinter X Games Aspen 2023: All results and medals - complete list. Here's your complete guide to all ... Monster Energy Men's Snowboard SuperPipe Podium!\u001b[0m\n",
      "\u001b[32;1m\u001b[1;3mFollow up: Who won the Monster Energy Men's Snowboard SuperPipe at the Winter X Games Aspen 2023?\u001b[0m\n",
      "Intermediate answer: \u001b[36;1m\u001b[1;3mMen's snowboard superpipe. 1. Gold - Scotty James 2. Silver - Jan Scherrer 3. Bronze - Valentino Guseli 4. Hirano Ruka 5.\u001b[0m\n",
      "\u001b[32;1m\u001b[1;3mSo the final answer is: Scotty James\u001b[0m\n",
      "\n",
      "\u001b[1m> Finished chain.\u001b[0m\n",
      "Spent a total of 1420 tokens\n"
     ]
    },
    {
     "data": {
      "text/plain": [
       "{'input': \"Now is July 11th, 2023, Who won the 2023 xgame men's superpipe final?\",\n",
       " 'output': 'Scotty James'}"
      ]
     },
     "execution_count": 16,
     "metadata": {},
     "output_type": "execute_result"
    }
   ],
   "source": [
    "chat_and_count(self_ask_with_search_agent, \"Now is July 11th, 2023, Who won the 2023 xgame men's superpipe final?\")"
   ]
  },
  {
   "cell_type": "code",
   "execution_count": 17,
   "metadata": {},
   "outputs": [
    {
     "name": "stdout",
     "output_type": "stream",
     "text": [
      "\n",
      "\n",
      "\u001b[1m> Entering new  chain...\u001b[0m\n",
      "\u001b[32;1m\u001b[1;3mYes.\n",
      "Follow up: What is the usual deadline for filing federal tax?\u001b[0m\n",
      "Intermediate answer: \u001b[36;1m\u001b[1;3mThe tax deadline typically falls on April 15 each year, but can be delayed if it falls on a weekend or holiday. Missing the tax deadline can have consequences like penalties and interest. April 18, 2023 - Deadline to File Form 4868 and request an extension.\u001b[0m\n",
      "\u001b[32;1m\u001b[1;3mFollow up: Was there an extension announced for California residents impacted by the winter storm?\u001b[0m\n",
      "Intermediate answer: \u001b[36;1m\u001b[1;3mThe IRS announced tax relief for Californians affected by these winter storms. Taxpayers affected by these storms qualify for an extension to October 16, 2023, to file individual and business tax returns and make certain tax payments. This includes: Individuals whose tax returns and payments are due on April 18, 2023.\u001b[0m\n",
      "\u001b[32;1m\u001b[1;3mSo the final answer is: October 16, 2023\u001b[0m\n",
      "\n",
      "\u001b[1m> Finished chain.\u001b[0m\n",
      "Spent a total of 1485 tokens\n"
     ]
    },
    {
     "data": {
      "text/plain": [
       "{'input': 'Now is July 11th, 2023, When is the deadline for filing 2023 federal tax for california residents impacted by the winter storm?',\n",
       " 'output': 'October 16, 2023'}"
      ]
     },
     "execution_count": 17,
     "metadata": {},
     "output_type": "execute_result"
    }
   ],
   "source": [
    "chat_and_count(self_ask_with_search_agent, \"Now is July 11th, 2023, When is the deadline for filing 2023 federal tax for california residents impacted by the winter storm?\")"
   ]
  },
  {
   "attachments": {},
   "cell_type": "markdown",
   "metadata": {},
   "source": [
    "### zero-shot-rect-description agent\n",
    "Testing out llm's capability in selecting one of the two tools\n",
    "\n",
    "self_ask_with_search_agent allows only one tool,\n",
    "\n",
    "Use zero-shot-rect-description agent instead"
   ]
  },
  {
   "cell_type": "code",
   "execution_count": 18,
   "metadata": {},
   "outputs": [],
   "source": [
    "from langchain.agents import load_tools\n",
    "\n",
    "math_tools = load_tools(\n",
    "    [\"llm-math\"],\n",
    "    llm=llm,\n",
    ")"
   ]
  },
  {
   "cell_type": "code",
   "execution_count": 20,
   "metadata": {},
   "outputs": [],
   "source": [
    "tools.extend(math_tools)"
   ]
  },
  {
   "cell_type": "code",
   "execution_count": 23,
   "metadata": {},
   "outputs": [],
   "source": [
    "zero_shot_react_agent = initialize_agent(\n",
    "    tools, \n",
    "    llm, \n",
    "    agent=\"zero-shot-react-description\", \n",
    "    verbose=True)"
   ]
  },
  {
   "cell_type": "code",
   "execution_count": 24,
   "metadata": {},
   "outputs": [
    {
     "name": "stderr",
     "output_type": "stream",
     "text": [
      "Retrying langchain.chat_models.openai.ChatOpenAI.completion_with_retry.<locals>._completion_with_retry in 1.0 seconds as it raised APIConnectionError: Error communicating with OpenAI: ('Connection aborted.', RemoteDisconnected('Remote end closed connection without response')).\n"
     ]
    },
    {
     "name": "stdout",
     "output_type": "stream",
     "text": [
      "\n",
      "\n",
      "\u001b[1m> Entering new  chain...\u001b[0m\n",
      "\u001b[32;1m\u001b[1;3mThis is a multiplication problem. I can use the calculator to solve it.\n",
      "Action: Calculator\n",
      "Action Input: 345 * 789\u001b[0m\n",
      "Observation: \u001b[33;1m\u001b[1;3mAnswer: 272205\u001b[0m\n",
      "Thought:\u001b[32;1m\u001b[1;3mI now know the final answer\n",
      "Final Answer: 272205\u001b[0m\n",
      "\n",
      "\u001b[1m> Finished chain.\u001b[0m\n",
      "Spent a total of 636 tokens\n"
     ]
    },
    {
     "data": {
      "text/plain": [
       "{'input': 'what is the result of 345 * 789?', 'output': '272205'}"
      ]
     },
     "execution_count": 24,
     "metadata": {},
     "output_type": "execute_result"
    }
   ],
   "source": [
    "chat_and_count(zero_shot_react_agent, \"what is the result of 345 * 789?\")"
   ]
  },
  {
   "cell_type": "code",
   "execution_count": 26,
   "metadata": {},
   "outputs": [
    {
     "name": "stderr",
     "output_type": "stream",
     "text": [
      "Retrying langchain.chat_models.openai.ChatOpenAI.completion_with_retry.<locals>._completion_with_retry in 1.0 seconds as it raised APIConnectionError: Error communicating with OpenAI: ('Connection aborted.', RemoteDisconnected('Remote end closed connection without response')).\n"
     ]
    },
    {
     "name": "stdout",
     "output_type": "stream",
     "text": [
      "\n",
      "\n",
      "\u001b[1m> Entering new  chain...\u001b[0m\n",
      "\u001b[32;1m\u001b[1;3mFirst, I need to find out the current ages of Elon Musk and Mark Zuckerberg.\n",
      "Action: Intermediate Answer\n",
      "Action Input: What is the current age of Elon Musk?\u001b[0m\n",
      "Observation: \u001b[36;1m\u001b[1;3m52 years\u001b[0m\n",
      "Thought:\u001b[32;1m\u001b[1;3mNow I know Elon Musk's age, I need to find out Mark Zuckerberg's age.\n",
      "Action: Intermediate Answer\n",
      "Action Input: What is the current age of Mark Zuckerberg?\u001b[0m\n",
      "Observation: \u001b[36;1m\u001b[1;3m39 years\u001b[0m\n",
      "Thought:\u001b[32;1m\u001b[1;3mNow that I know the ages of both Elon Musk and Mark Zuckerberg, I can calculate the product of their ages.\n",
      "Action: Calculator\n",
      "Action Input: 52 * 39\u001b[0m\n",
      "Observation: \u001b[33;1m\u001b[1;3mAnswer: 2028\u001b[0m\n",
      "Thought:\u001b[32;1m\u001b[1;3mI now know the final answer\n",
      "Final Answer: The product of the ages of Elon Musk and Mark Zuckerberg is 2028.\u001b[0m\n",
      "\n",
      "\u001b[1m> Finished chain.\u001b[0m\n",
      "Spent a total of 1311 tokens\n"
     ]
    },
    {
     "data": {
      "text/plain": [
       "{'input': 'what is the product of the ages of elon musk and mark zuckberg?',\n",
       " 'output': 'The product of the ages of Elon Musk and Mark Zuckerberg is 2028.'}"
      ]
     },
     "execution_count": 26,
     "metadata": {},
     "output_type": "execute_result"
    }
   ],
   "source": [
    "chat_and_count(zero_shot_react_agent, \"what is the product of the ages of elon musk and mark zuckberg?\")"
   ]
  },
  {
   "cell_type": "code",
   "execution_count": 30,
   "metadata": {},
   "outputs": [
    {
     "name": "stdout",
     "output_type": "stream",
     "text": [
      "Answer the following questions as best you can. You have access to the following tools:\n",
      "\n",
      "Intermediate Answer: Searches for an answer to your question on the internet\n",
      "Calculator: Useful for when you need to answer questions about math.\n",
      "\n",
      "Use the following format:\n",
      "\n",
      "Question: the input question you must answer\n",
      "Thought: you should always think about what to do\n",
      "Action: the action to take, should be one of [Intermediate Answer, Calculator]\n",
      "Action Input: the input to the action\n",
      "Observation: the result of the action\n",
      "... (this Thought/Action/Action Input/Observation can repeat N times)\n",
      "Thought: I now know the final answer\n",
      "Final Answer: the final answer to the original input question\n",
      "\n",
      "Begin!\n",
      "\n",
      "Question: {input}\n",
      "Thought:{agent_scratchpad}\n"
     ]
    }
   ],
   "source": [
    "print(zero_shot_react_agent.agent.llm_chain.prompt.template)"
   ]
  }
 ],
 "metadata": {
  "kernelspec": {
   "display_name": "venv",
   "language": "python",
   "name": "python3"
  },
  "language_info": {
   "codemirror_mode": {
    "name": "ipython",
    "version": 3
   },
   "file_extension": ".py",
   "mimetype": "text/x-python",
   "name": "python",
   "nbconvert_exporter": "python",
   "pygments_lexer": "ipython3",
   "version": "3.10.9"
  },
  "orig_nbformat": 4
 },
 "nbformat": 4,
 "nbformat_minor": 2
}
